{
  "nbformat": 4,
  "nbformat_minor": 0,
  "metadata": {
    "colab": {
      "name": "1103-pytorch-project.ipynb",
      "provenance": []
    },
    "kernelspec": {
      "name": "python3",
      "display_name": "Python 3"
    },
    "language_info": {
      "name": "python"
    },
    "accelerator": "GPU",
    "widgets": {
      "application/vnd.jupyter.widget-state+json": {
        "416b236792774c9e89fb47809da6df52": {
          "model_module": "@jupyter-widgets/controls",
          "model_name": "HBoxModel",
          "model_module_version": "1.5.0",
          "state": {
            "_view_name": "HBoxView",
            "_dom_classes": [],
            "_model_name": "HBoxModel",
            "_view_module": "@jupyter-widgets/controls",
            "_model_module_version": "1.5.0",
            "_view_count": null,
            "_view_module_version": "1.5.0",
            "box_style": "",
            "layout": "IPY_MODEL_420524445f4945cda2509e728616a3ba",
            "_model_module": "@jupyter-widgets/controls",
            "children": [
              "IPY_MODEL_ab27e919126b49b8b1845f67857b0c3b",
              "IPY_MODEL_4805ca02a01640b6834dd7ad7935ae18",
              "IPY_MODEL_fc1436c2177241a9bba0fb6e2ddfb303"
            ]
          }
        },
        "420524445f4945cda2509e728616a3ba": {
          "model_module": "@jupyter-widgets/base",
          "model_name": "LayoutModel",
          "model_module_version": "1.2.0",
          "state": {
            "_view_name": "LayoutView",
            "grid_template_rows": null,
            "right": null,
            "justify_content": null,
            "_view_module": "@jupyter-widgets/base",
            "overflow": null,
            "_model_module_version": "1.2.0",
            "_view_count": null,
            "flex_flow": null,
            "width": null,
            "min_width": null,
            "border": null,
            "align_items": null,
            "bottom": null,
            "_model_module": "@jupyter-widgets/base",
            "top": null,
            "grid_column": null,
            "overflow_y": null,
            "overflow_x": null,
            "grid_auto_flow": null,
            "grid_area": null,
            "grid_template_columns": null,
            "flex": null,
            "_model_name": "LayoutModel",
            "justify_items": null,
            "grid_row": null,
            "max_height": null,
            "align_content": null,
            "visibility": null,
            "align_self": null,
            "height": null,
            "min_height": null,
            "padding": null,
            "grid_auto_rows": null,
            "grid_gap": null,
            "max_width": null,
            "order": null,
            "_view_module_version": "1.2.0",
            "grid_template_areas": null,
            "object_position": null,
            "object_fit": null,
            "grid_auto_columns": null,
            "margin": null,
            "display": null,
            "left": null
          }
        },
        "ab27e919126b49b8b1845f67857b0c3b": {
          "model_module": "@jupyter-widgets/controls",
          "model_name": "HTMLModel",
          "model_module_version": "1.5.0",
          "state": {
            "_view_name": "HTMLView",
            "style": "IPY_MODEL_b3a6bac08e35429281f0fc19106fda7f",
            "_dom_classes": [],
            "description": "",
            "_model_name": "HTMLModel",
            "placeholder": "​",
            "_view_module": "@jupyter-widgets/controls",
            "_model_module_version": "1.5.0",
            "value": "",
            "_view_count": null,
            "_view_module_version": "1.5.0",
            "description_tooltip": null,
            "_model_module": "@jupyter-widgets/controls",
            "layout": "IPY_MODEL_6bac6615049b4155889f779c207593b4"
          }
        },
        "4805ca02a01640b6834dd7ad7935ae18": {
          "model_module": "@jupyter-widgets/controls",
          "model_name": "FloatProgressModel",
          "model_module_version": "1.5.0",
          "state": {
            "_view_name": "ProgressView",
            "style": "IPY_MODEL_99150ee1614f4340b0d89483fb30228d",
            "_dom_classes": [],
            "description": "",
            "_model_name": "FloatProgressModel",
            "bar_style": "success",
            "max": 170498071,
            "_view_module": "@jupyter-widgets/controls",
            "_model_module_version": "1.5.0",
            "value": 170498071,
            "_view_count": null,
            "_view_module_version": "1.5.0",
            "orientation": "horizontal",
            "min": 0,
            "description_tooltip": null,
            "_model_module": "@jupyter-widgets/controls",
            "layout": "IPY_MODEL_1903b922020845b98069a2b1168b414c"
          }
        },
        "fc1436c2177241a9bba0fb6e2ddfb303": {
          "model_module": "@jupyter-widgets/controls",
          "model_name": "HTMLModel",
          "model_module_version": "1.5.0",
          "state": {
            "_view_name": "HTMLView",
            "style": "IPY_MODEL_ab37cb6598634c80b15ef78e90613f51",
            "_dom_classes": [],
            "description": "",
            "_model_name": "HTMLModel",
            "placeholder": "​",
            "_view_module": "@jupyter-widgets/controls",
            "_model_module_version": "1.5.0",
            "value": " 170499072/? [00:03&lt;00:00, 56490701.52it/s]",
            "_view_count": null,
            "_view_module_version": "1.5.0",
            "description_tooltip": null,
            "_model_module": "@jupyter-widgets/controls",
            "layout": "IPY_MODEL_53809978ef9f453eb143b05471cf6311"
          }
        },
        "b3a6bac08e35429281f0fc19106fda7f": {
          "model_module": "@jupyter-widgets/controls",
          "model_name": "DescriptionStyleModel",
          "model_module_version": "1.5.0",
          "state": {
            "_view_name": "StyleView",
            "_model_name": "DescriptionStyleModel",
            "description_width": "",
            "_view_module": "@jupyter-widgets/base",
            "_model_module_version": "1.5.0",
            "_view_count": null,
            "_view_module_version": "1.2.0",
            "_model_module": "@jupyter-widgets/controls"
          }
        },
        "6bac6615049b4155889f779c207593b4": {
          "model_module": "@jupyter-widgets/base",
          "model_name": "LayoutModel",
          "model_module_version": "1.2.0",
          "state": {
            "_view_name": "LayoutView",
            "grid_template_rows": null,
            "right": null,
            "justify_content": null,
            "_view_module": "@jupyter-widgets/base",
            "overflow": null,
            "_model_module_version": "1.2.0",
            "_view_count": null,
            "flex_flow": null,
            "width": null,
            "min_width": null,
            "border": null,
            "align_items": null,
            "bottom": null,
            "_model_module": "@jupyter-widgets/base",
            "top": null,
            "grid_column": null,
            "overflow_y": null,
            "overflow_x": null,
            "grid_auto_flow": null,
            "grid_area": null,
            "grid_template_columns": null,
            "flex": null,
            "_model_name": "LayoutModel",
            "justify_items": null,
            "grid_row": null,
            "max_height": null,
            "align_content": null,
            "visibility": null,
            "align_self": null,
            "height": null,
            "min_height": null,
            "padding": null,
            "grid_auto_rows": null,
            "grid_gap": null,
            "max_width": null,
            "order": null,
            "_view_module_version": "1.2.0",
            "grid_template_areas": null,
            "object_position": null,
            "object_fit": null,
            "grid_auto_columns": null,
            "margin": null,
            "display": null,
            "left": null
          }
        },
        "99150ee1614f4340b0d89483fb30228d": {
          "model_module": "@jupyter-widgets/controls",
          "model_name": "ProgressStyleModel",
          "model_module_version": "1.5.0",
          "state": {
            "_view_name": "StyleView",
            "_model_name": "ProgressStyleModel",
            "description_width": "",
            "_view_module": "@jupyter-widgets/base",
            "_model_module_version": "1.5.0",
            "_view_count": null,
            "_view_module_version": "1.2.0",
            "bar_color": null,
            "_model_module": "@jupyter-widgets/controls"
          }
        },
        "1903b922020845b98069a2b1168b414c": {
          "model_module": "@jupyter-widgets/base",
          "model_name": "LayoutModel",
          "model_module_version": "1.2.0",
          "state": {
            "_view_name": "LayoutView",
            "grid_template_rows": null,
            "right": null,
            "justify_content": null,
            "_view_module": "@jupyter-widgets/base",
            "overflow": null,
            "_model_module_version": "1.2.0",
            "_view_count": null,
            "flex_flow": null,
            "width": null,
            "min_width": null,
            "border": null,
            "align_items": null,
            "bottom": null,
            "_model_module": "@jupyter-widgets/base",
            "top": null,
            "grid_column": null,
            "overflow_y": null,
            "overflow_x": null,
            "grid_auto_flow": null,
            "grid_area": null,
            "grid_template_columns": null,
            "flex": null,
            "_model_name": "LayoutModel",
            "justify_items": null,
            "grid_row": null,
            "max_height": null,
            "align_content": null,
            "visibility": null,
            "align_self": null,
            "height": null,
            "min_height": null,
            "padding": null,
            "grid_auto_rows": null,
            "grid_gap": null,
            "max_width": null,
            "order": null,
            "_view_module_version": "1.2.0",
            "grid_template_areas": null,
            "object_position": null,
            "object_fit": null,
            "grid_auto_columns": null,
            "margin": null,
            "display": null,
            "left": null
          }
        },
        "ab37cb6598634c80b15ef78e90613f51": {
          "model_module": "@jupyter-widgets/controls",
          "model_name": "DescriptionStyleModel",
          "model_module_version": "1.5.0",
          "state": {
            "_view_name": "StyleView",
            "_model_name": "DescriptionStyleModel",
            "description_width": "",
            "_view_module": "@jupyter-widgets/base",
            "_model_module_version": "1.5.0",
            "_view_count": null,
            "_view_module_version": "1.2.0",
            "_model_module": "@jupyter-widgets/controls"
          }
        },
        "53809978ef9f453eb143b05471cf6311": {
          "model_module": "@jupyter-widgets/base",
          "model_name": "LayoutModel",
          "model_module_version": "1.2.0",
          "state": {
            "_view_name": "LayoutView",
            "grid_template_rows": null,
            "right": null,
            "justify_content": null,
            "_view_module": "@jupyter-widgets/base",
            "overflow": null,
            "_model_module_version": "1.2.0",
            "_view_count": null,
            "flex_flow": null,
            "width": null,
            "min_width": null,
            "border": null,
            "align_items": null,
            "bottom": null,
            "_model_module": "@jupyter-widgets/base",
            "top": null,
            "grid_column": null,
            "overflow_y": null,
            "overflow_x": null,
            "grid_auto_flow": null,
            "grid_area": null,
            "grid_template_columns": null,
            "flex": null,
            "_model_name": "LayoutModel",
            "justify_items": null,
            "grid_row": null,
            "max_height": null,
            "align_content": null,
            "visibility": null,
            "align_self": null,
            "height": null,
            "min_height": null,
            "padding": null,
            "grid_auto_rows": null,
            "grid_gap": null,
            "max_width": null,
            "order": null,
            "_view_module_version": "1.2.0",
            "grid_template_areas": null,
            "object_position": null,
            "object_fit": null,
            "grid_auto_columns": null,
            "margin": null,
            "display": null,
            "left": null
          }
        }
      }
    }
  },
  "cells": [
    {
      "cell_type": "markdown",
      "metadata": {
        "id": "ST165-zYGz04"
      },
      "source": [
        "\n",
        "### 2.2 Pytorch Project\n",
        "### 2.2.1 Load data"
      ]
    },
    {
      "cell_type": "code",
      "metadata": {
        "id": "BOkFaf0WGubw"
      },
      "source": [
        "import torchvision # to download 'CIFAR10' datasest\n",
        "import torchvision.transforms as transforms  # to manipulate input data"
      ],
      "execution_count": 1,
      "outputs": []
    },
    {
      "cell_type": "code",
      "metadata": {
        "colab": {
          "base_uri": "https://localhost:8080/",
          "height": 84,
          "referenced_widgets": [
            "416b236792774c9e89fb47809da6df52",
            "420524445f4945cda2509e728616a3ba",
            "ab27e919126b49b8b1845f67857b0c3b",
            "4805ca02a01640b6834dd7ad7935ae18",
            "fc1436c2177241a9bba0fb6e2ddfb303",
            "b3a6bac08e35429281f0fc19106fda7f",
            "6bac6615049b4155889f779c207593b4",
            "99150ee1614f4340b0d89483fb30228d",
            "1903b922020845b98069a2b1168b414c",
            "ab37cb6598634c80b15ef78e90613f51",
            "53809978ef9f453eb143b05471cf6311"
          ]
        },
        "id": "IhEDGp31G3XT",
        "outputId": "7368c976-995c-4cb7-bbdf-2cda4f4bd441"
      },
      "source": [
        "train_data = torchvision.datasets.CIFAR10(root='./datasets',\n",
        "                                          train=True,\n",
        "                                          transform=transforms.ToTensor(),\n",
        "                                          download=True)"
      ],
      "execution_count": 2,
      "outputs": [
        {
          "output_type": "stream",
          "name": "stdout",
          "text": [
            "Downloading https://www.cs.toronto.edu/~kriz/cifar-10-python.tar.gz to ./datasets/cifar-10-python.tar.gz\n"
          ]
        },
        {
          "output_type": "display_data",
          "data": {
            "application/vnd.jupyter.widget-view+json": {
              "model_id": "416b236792774c9e89fb47809da6df52",
              "version_minor": 0,
              "version_major": 2
            },
            "text/plain": [
              "  0%|          | 0/170498071 [00:00<?, ?it/s]"
            ]
          },
          "metadata": {}
        },
        {
          "output_type": "stream",
          "name": "stdout",
          "text": [
            "Extracting ./datasets/cifar-10-python.tar.gz to ./datasets\n"
          ]
        }
      ]
    },
    {
      "cell_type": "code",
      "metadata": {
        "colab": {
          "base_uri": "https://localhost:8080/"
        },
        "id": "yIf5Y3bvHE0L",
        "outputId": "578260e0-f8d4-4690-8b39-1034e5c1f6ad"
      },
      "source": [
        "# data check\n",
        "image, label = train_data[0]\n",
        "print(len(train_data), image.size(), label)"
      ],
      "execution_count": 3,
      "outputs": [
        {
          "output_type": "stream",
          "name": "stdout",
          "text": [
            "50000 torch.Size([3, 32, 32]) 6\n"
          ]
        }
      ]
    },
    {
      "cell_type": "code",
      "metadata": {
        "id": "yv80eTLMHFHP"
      },
      "source": [
        "import matplotlib\n",
        "import matplotlib.pyplot as plt"
      ],
      "execution_count": 4,
      "outputs": []
    },
    {
      "cell_type": "code",
      "metadata": {
        "colab": {
          "base_uri": "https://localhost:8080/",
          "height": 137
        },
        "id": "Xg9zPrC-HGHv",
        "outputId": "a84d076b-283f-4cfa-d890-4273aa2e3f4b"
      },
      "source": [
        "plt.subplot(141)\n",
        "plt.imshow(image.permute(2,1,0))\n",
        "plt.title(label)\n",
        "plt.show()"
      ],
      "execution_count": 5,
      "outputs": [
        {
          "output_type": "display_data",
          "data": {
            "image/png": "[encoded data removed]",
            "text/plain": [
              "<Figure size 432x288 with 1 Axes>"
            ]
          },
          "metadata": {
            "needs_background": "light"
          }
        }
      ]
    },
    {
      "cell_type": "markdown",
      "metadata": {
        "id": "qq5zcMxIHJ8A"
      },
      "source": [
        "### 2.2.2. Define Dataloader\n",
        "define dataloader (dataloader loads data from queue while iters loop)"
      ]
    },
    {
      "cell_type": "code",
      "metadata": {
        "id": "F-OnoofQHIeg"
      },
      "source": [
        "import torch"
      ],
      "execution_count": 6,
      "outputs": []
    },
    {
      "cell_type": "code",
      "metadata": {
        "id": "KOqgT-mbHMlr"
      },
      "source": [
        "data_loader = torch.utils.data.DataLoader(dataset=train_data,\n",
        "                                          batch_size=64,\n",
        "                                          shuffle=True)"
      ],
      "execution_count": 7,
      "outputs": []
    },
    {
      "cell_type": "code",
      "metadata": {
        "colab": {
          "base_uri": "https://localhost:8080/"
        },
        "id": "cT9qCaxvHONJ",
        "outputId": "2b631278-3a80-4d44-92cd-88f9d58c7892"
      },
      "source": [
        "# check how data loader works\n",
        "print(len(data_loader))\n",
        "for idx, (images, labels) in enumerate(data_loader):\n",
        "  if idx ==3:\n",
        "    break\n",
        "  print(image.size(), labels)"
      ],
      "execution_count": 8,
      "outputs": [
        {
          "output_type": "stream",
          "name": "stdout",
          "text": [
            "782\n",
            "torch.Size([3, 32, 32]) tensor([0, 1, 9, 0, 5, 4, 8, 3, 7, 5, 7, 6, 4, 7, 7, 6, 3, 0, 8, 4, 9, 1, 7, 2,\n",
            "        1, 0, 3, 9, 8, 2, 7, 4, 6, 0, 7, 8, 4, 0, 0, 5, 2, 1, 4, 1, 5, 2, 8, 6,\n",
            "        8, 7, 3, 2, 3, 6, 2, 7, 5, 5, 9, 9, 6, 9, 2, 9])\n",
            "torch.Size([3, 32, 32]) tensor([9, 0, 7, 3, 2, 3, 1, 3, 6, 8, 2, 5, 9, 4, 1, 9, 5, 8, 1, 0, 4, 6, 5, 7,\n",
            "        5, 5, 2, 1, 6, 6, 8, 8, 3, 6, 9, 5, 7, 3, 6, 0, 8, 5, 1, 4, 1, 9, 7, 1,\n",
            "        1, 4, 8, 5, 4, 7, 5, 0, 8, 7, 6, 4, 8, 7, 0, 5])\n",
            "torch.Size([3, 32, 32]) tensor([3, 9, 8, 4, 9, 0, 1, 5, 1, 8, 5, 1, 4, 9, 7, 6, 8, 7, 6, 2, 3, 0, 4, 1,\n",
            "        8, 9, 3, 0, 9, 1, 7, 5, 4, 7, 6, 1, 5, 3, 4, 5, 9, 1, 6, 9, 9, 3, 2, 8,\n",
            "        4, 2, 8, 0, 8, 6, 1, 0, 2, 2, 9, 1, 0, 2, 5, 4])\n"
          ]
        }
      ]
    },
    {
      "cell_type": "markdown",
      "metadata": {
        "id": "-0526y7XHQzl"
      },
      "source": [
        "### 2.2.3. Define Model"
      ]
    },
    {
      "cell_type": "code",
      "metadata": {
        "id": "xVsJvkhbHPQC"
      },
      "source": [
        "import torch.nn as nn\n",
        "import torch.nn.functional as F"
      ],
      "execution_count": 9,
      "outputs": []
    },
    {
      "cell_type": "code",
      "metadata": {
        "id": "616DTtMzHSpB"
      },
      "source": [
        "class Net(nn.Module):\n",
        "  def __init__(self):\n",
        "    super(Net, self).__init__()\n",
        "    self.layer1 = nn.Sequential(\n",
        "        nn.Conv2d(3,6,5),\n",
        "        nn.BatchNorm2d(6),\n",
        "        nn.ReLU(),\n",
        "        nn.MaxPool2d(2,2)\n",
        "    )\n",
        "    self.fc = nn.Linear(6*14*14, 10)\n",
        "\n",
        "\n",
        "  def forward(self, x):\n",
        "    out = self.layer1(x)\n",
        "    out = out.reshape(out.size(0),-1)\n",
        "    out = self.fc(out)\n",
        "\n",
        "    return out\n",
        "\n",
        "model = Net()"
      ],
      "execution_count": 10,
      "outputs": []
    },
    {
      "cell_type": "code",
      "metadata": {
        "colab": {
          "base_uri": "https://localhost:8080/"
        },
        "id": "tbuF6S3RHTvV",
        "outputId": "1f852499-baa0-45f3-f3c5-c79008af9fdc"
      },
      "source": [
        "# check which layers constitue Network\n",
        "print(model)"
      ],
      "execution_count": 11,
      "outputs": [
        {
          "output_type": "stream",
          "name": "stdout",
          "text": [
            "Net(\n",
            "  (layer1): Sequential(\n",
            "    (0): Conv2d(3, 6, kernel_size=(5, 5), stride=(1, 1))\n",
            "    (1): BatchNorm2d(6, eps=1e-05, momentum=0.1, affine=True, track_running_stats=True)\n",
            "    (2): ReLU()\n",
            "    (3): MaxPool2d(kernel_size=2, stride=2, padding=0, dilation=1, ceil_mode=False)\n",
            "  )\n",
            "  (fc): Linear(in_features=1176, out_features=10, bias=True)\n",
            ")\n"
          ]
        }
      ]
    },
    {
      "cell_type": "markdown",
      "metadata": {
        "id": "tUpx7dIgHWQh"
      },
      "source": [
        "### 2.2.4. Set Loss & Optimizer"
      ]
    },
    {
      "cell_type": "code",
      "metadata": {
        "id": "oQbVCbXPHU5Q"
      },
      "source": [
        "criterion = nn.CrossEntropyLoss()\n",
        "optimizer = torch.optim.SGD(model.parameters(), lr=0.001)"
      ],
      "execution_count": 12,
      "outputs": []
    },
    {
      "cell_type": "code",
      "metadata": {
        "colab": {
          "base_uri": "https://localhost:8080/"
        },
        "id": "hdgzNEjUHX48",
        "outputId": "5cef81fe-ffd5-434c-b0df-9f19ad08db17"
      },
      "source": [
        "epochs = 1\n",
        "for epoch in range(epochs):\n",
        "  for i, (images, labels) in enumerate(data_loader):\n",
        "    # Forward Propagate\n",
        "    outputs = model(images)\n",
        "\n",
        "    # Get Loss, Compute Gradients, Update Parameters\n",
        "    loss = criterion(outputs, labels)\n",
        "    optimizer.zero_grad()\n",
        "    loss.backward()\n",
        "    optimizer.step()\n",
        "\n",
        "    if i % 50 == 0 or (i+1)==len(data_loader):\n",
        "      print('Epoch [{}/{}], Step [{}/{}], Loss: {:.4f}'.format(epoch+1, epochs, i+1, len(data_loader), loss.item()))"
      ],
      "execution_count": 13,
      "outputs": [
        {
          "output_type": "stream",
          "name": "stderr",
          "text": [
            "/usr/local/lib/python3.7/dist-packages/torch/nn/functional.py:718: UserWarning: Named tensors and all their associated APIs are an experimental feature and subject to change. Please do not use them for anything important until they are released as stable. (Triggered internally at  /pytorch/c10/core/TensorImpl.h:1156.)\n",
            "  return torch.max_pool2d(input, kernel_size, stride, padding, dilation, ceil_mode)\n"
          ]
        },
        {
          "output_type": "stream",
          "name": "stdout",
          "text": [
            "Epoch [1/1], Step [1/782], Loss: 2.4156\n",
            "Epoch [1/1], Step [51/782], Loss: 2.2211\n",
            "Epoch [1/1], Step [101/782], Loss: 2.2218\n",
            "Epoch [1/1], Step [151/782], Loss: 2.0489\n",
            "Epoch [1/1], Step [201/782], Loss: 2.0250\n",
            "Epoch [1/1], Step [251/782], Loss: 1.9054\n",
            "Epoch [1/1], Step [301/782], Loss: 2.0552\n",
            "Epoch [1/1], Step [351/782], Loss: 2.0522\n",
            "Epoch [1/1], Step [401/782], Loss: 1.9583\n",
            "Epoch [1/1], Step [451/782], Loss: 1.9903\n",
            "Epoch [1/1], Step [501/782], Loss: 1.7589\n",
            "Epoch [1/1], Step [551/782], Loss: 1.7635\n",
            "Epoch [1/1], Step [601/782], Loss: 1.7798\n",
            "Epoch [1/1], Step [651/782], Loss: 1.9190\n",
            "Epoch [1/1], Step [701/782], Loss: 1.7920\n",
            "Epoch [1/1], Step [751/782], Loss: 1.8386\n",
            "Epoch [1/1], Step [782/782], Loss: 1.8254\n"
          ]
        }
      ]
    },
    {
      "cell_type": "markdown",
      "metadata": {
        "id": "2hervs52Hbrd"
      },
      "source": [
        "### 2.2.6. Save & Visualization"
      ]
    },
    {
      "cell_type": "code",
      "metadata": {
        "id": "jQVsR6rXHY5h"
      },
      "source": [
        "torch.save(model.state_dict(), 'my_model.pth')"
      ],
      "execution_count": 14,
      "outputs": []
    },
    {
      "cell_type": "code",
      "metadata": {
        "colab": {
          "base_uri": "https://localhost:8080/"
        },
        "id": "eISoergCHd3z",
        "outputId": "a24d6003-c941-4035-c1ee-5801f45c3895"
      },
      "source": [
        "# check the saved model\n",
        "! ls"
      ],
      "execution_count": 15,
      "outputs": [
        {
          "output_type": "stream",
          "name": "stdout",
          "text": [
            "datasets  my_model.pth\tsample_data\n"
          ]
        }
      ]
    }
  ]
}