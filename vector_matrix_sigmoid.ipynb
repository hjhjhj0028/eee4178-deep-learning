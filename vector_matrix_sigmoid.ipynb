{
  "nbformat": 4,
  "nbformat_minor": 0,
  "metadata": {
    "colab": {
      "name": "vector_matrix_sigmoid.ipynb",
      "provenance": [],
      "authorship_tag": "ABX9TyOtTGChXc5AaDTiJTFS5xkK",
      "include_colab_link": true
    },
    "kernelspec": {
      "name": "python3",
      "display_name": "Python 3"
    },
    "language_info": {
      "name": "python"
    }
  },
  "cells": [
    {
      "cell_type": "markdown",
      "metadata": {
        "id": "view-in-github",
        "colab_type": "text"
      },
      "source": [
        "<a href=\"https://colab.research.google.com/github/gabie0208/eee4178-deep-learning/blob/main/vector_matrix_sigmoid.ipynb\" target=\"_parent\"><img src=\"https://colab.research.google.com/assets/colab-badge.svg\" alt=\"Open In Colab\"/></a>"
      ]
    },
    {
      "cell_type": "markdown",
      "source": [
        "#1.1 수학과 파이썬 복습"
      ],
      "metadata": {
        "id": "q_-mAxnOMDjM"
      }
    },
    {
      "cell_type": "markdown",
      "source": [
        "### 벡터와 행렬\n",
        "\n",
        "*   shape 다차원원 배열의 형상\n",
        "*   ndim 차원 수\n",
        "\n"
      ],
      "metadata": {
        "id": "ZWfLgX-RMZWJ"
      }
    },
    {
      "cell_type": "code",
      "source": [
        "import numpy as np\n",
        "x = np.array([1,2,3])\n",
        "x.__class__"
      ],
      "metadata": {
        "colab": {
          "base_uri": "https://localhost:8080/"
        },
        "id": "v0cMrez-J-Xi",
        "outputId": "2b39b1f3-dead-445c-8bec-d79d0a3d7e9c"
      },
      "execution_count": 4,
      "outputs": [
        {
          "output_type": "execute_result",
          "data": {
            "text/plain": [
              "numpy.ndarray"
            ]
          },
          "metadata": {},
          "execution_count": 4
        }
      ]
    },
    {
      "cell_type": "code",
      "source": [
        "x.shape"
      ],
      "metadata": {
        "colab": {
          "base_uri": "https://localhost:8080/"
        },
        "id": "OKHy_8eULahV",
        "outputId": "4cc54f97-ab46-45f2-cd7c-8f587a3c0393"
      },
      "execution_count": 6,
      "outputs": [
        {
          "output_type": "execute_result",
          "data": {
            "text/plain": [
              "(3,)"
            ]
          },
          "metadata": {},
          "execution_count": 6
        }
      ]
    },
    {
      "cell_type": "code",
      "source": [
        "x.ndim"
      ],
      "metadata": {
        "colab": {
          "base_uri": "https://localhost:8080/"
        },
        "id": "icKSoUdRLcAz",
        "outputId": "d10c91c4-c4e1-4623-dc1d-cfa36f45a8d2"
      },
      "execution_count": 7,
      "outputs": [
        {
          "output_type": "execute_result",
          "data": {
            "text/plain": [
              "1"
            ]
          },
          "metadata": {},
          "execution_count": 7
        }
      ]
    },
    {
      "cell_type": "code",
      "source": [
        "W = np.array([[1,2,3], [4,5,6]])\n",
        "W.shape"
      ],
      "metadata": {
        "colab": {
          "base_uri": "https://localhost:8080/"
        },
        "id": "7MPBB4x-LeM0",
        "outputId": "9573c5f4-7cc7-4805-c730-33a980afbb15"
      },
      "execution_count": 8,
      "outputs": [
        {
          "output_type": "execute_result",
          "data": {
            "text/plain": [
              "(2, 3)"
            ]
          },
          "metadata": {},
          "execution_count": 8
        }
      ]
    },
    {
      "cell_type": "code",
      "source": [
        "W.ndim"
      ],
      "metadata": {
        "colab": {
          "base_uri": "https://localhost:8080/"
        },
        "id": "feFlOhxjLjfh",
        "outputId": "2553178c-9657-491d-d809-1e150735c489"
      },
      "execution_count": 9,
      "outputs": [
        {
          "output_type": "execute_result",
          "data": {
            "text/plain": [
              "2"
            ]
          },
          "metadata": {},
          "execution_count": 9
        }
      ]
    },
    {
      "cell_type": "markdown",
      "source": [
        "## 행렬의 원소별 연산"
      ],
      "metadata": {
        "id": "lkbAsERuMquB"
      }
    },
    {
      "cell_type": "code",
      "source": [
        "W = np.array([[1,2,3], [4,5,6]])\n",
        "X = np.array([[0,1,2], [3,4,5]])\n",
        "W + X"
      ],
      "metadata": {
        "colab": {
          "base_uri": "https://localhost:8080/"
        },
        "id": "NQuxY76xLkU5",
        "outputId": "50c45d77-3cee-4400-ca32-d51153e88c87"
      },
      "execution_count": 10,
      "outputs": [
        {
          "output_type": "execute_result",
          "data": {
            "text/plain": [
              "array([[ 1,  3,  5],\n",
              "       [ 7,  9, 11]])"
            ]
          },
          "metadata": {},
          "execution_count": 10
        }
      ]
    },
    {
      "cell_type": "code",
      "source": [
        "W * X"
      ],
      "metadata": {
        "colab": {
          "base_uri": "https://localhost:8080/"
        },
        "id": "zhMruZkRL0XN",
        "outputId": "753dbacd-9bbb-4eab-e037-1a61dd37ac5f"
      },
      "execution_count": 11,
      "outputs": [
        {
          "output_type": "execute_result",
          "data": {
            "text/plain": [
              "array([[ 0,  2,  6],\n",
              "       [12, 20, 30]])"
            ]
          },
          "metadata": {},
          "execution_count": 11
        }
      ]
    },
    {
      "cell_type": "markdown",
      "source": [
        "## Broadcast"
      ],
      "metadata": {
        "id": "SIhRG7xjMy5X"
      }
    },
    {
      "cell_type": "code",
      "source": [
        "A = np.array([[1,2],[3,4]])\n",
        "A * 10"
      ],
      "metadata": {
        "colab": {
          "base_uri": "https://localhost:8080/"
        },
        "id": "13vjfkesL2zm",
        "outputId": "2f41fc9a-82e0-4b71-ffcd-2f0f7ccbe605"
      },
      "execution_count": 13,
      "outputs": [
        {
          "output_type": "execute_result",
          "data": {
            "text/plain": [
              "array([[10, 20],\n",
              "       [30, 40]])"
            ]
          },
          "metadata": {},
          "execution_count": 13
        }
      ]
    },
    {
      "cell_type": "code",
      "source": [
        "A = np.array([[1,2],[3,4]])\n",
        "b = np.array([10,20])\n",
        "A * b"
      ],
      "metadata": {
        "colab": {
          "base_uri": "https://localhost:8080/"
        },
        "id": "Pfc5hV-FM8X1",
        "outputId": "531add28-1dc6-43c6-aef3-7c800ac2ce2a"
      },
      "execution_count": 14,
      "outputs": [
        {
          "output_type": "execute_result",
          "data": {
            "text/plain": [
              "array([[10, 40],\n",
              "       [30, 80]])"
            ]
          },
          "metadata": {},
          "execution_count": 14
        }
      ]
    },
    {
      "cell_type": "markdown",
      "source": [
        "## 벡터의 내적과 행렬의 곱"
      ],
      "metadata": {
        "id": "-IzGahz1NeUc"
      }
    },
    {
      "cell_type": "code",
      "source": [
        "a = np.array([1,2,3])\n",
        "b = np.array([4,5,6])\n",
        "np.dot(a,b)\n",
        "\n",
        "# 4 + 10 + 18 = 32"
      ],
      "metadata": {
        "colab": {
          "base_uri": "https://localhost:8080/"
        },
        "id": "Wxa85xjONZI2",
        "outputId": "d788f39e-b2c9-4d69-a16d-2dda504e04f0"
      },
      "execution_count": 15,
      "outputs": [
        {
          "output_type": "execute_result",
          "data": {
            "text/plain": [
              "32"
            ]
          },
          "metadata": {},
          "execution_count": 15
        }
      ]
    },
    {
      "cell_type": "code",
      "source": [
        "a = np.array([[1,2], [3,4]])\n",
        "b = np.array([[5,6], \n",
        "              [7,8]])\n",
        "np.matmul(a,b)\n",
        "\n",
        "# (5+14), (6+16)\n",
        "# (15+28), (18+32)"
      ],
      "metadata": {
        "colab": {
          "base_uri": "https://localhost:8080/"
        },
        "id": "eG8vz1L4ONQB",
        "outputId": "c42aa61c-8acf-497a-9ea8-1c6c9457da11"
      },
      "execution_count": 16,
      "outputs": [
        {
          "output_type": "execute_result",
          "data": {
            "text/plain": [
              "array([[19, 22],\n",
              "       [43, 50]])"
            ]
          },
          "metadata": {},
          "execution_count": 16
        }
      ]
    },
    {
      "cell_type": "markdown",
      "source": [
        "# 1.2 신경망 추론"
      ],
      "metadata": {
        "id": "MeRyMo7KQcQn"
      }
    },
    {
      "cell_type": "code",
      "source": [
        "W1 = np.random.randn(2,4) # weight\n",
        "b1 = np.random.randn(4) # bias\n",
        "x = np.random.randn(10,2) # input\n",
        "h = np.matmul(x, W1) + b1\n",
        "h"
      ],
      "metadata": {
        "colab": {
          "base_uri": "https://localhost:8080/"
        },
        "id": "rQGiMkk4OjwI",
        "outputId": "9a9041f5-464f-4071-e0ff-978190ba6be0"
      },
      "execution_count": 18,
      "outputs": [
        {
          "output_type": "execute_result",
          "data": {
            "text/plain": [
              "array([[-3.02015977, -0.70620814,  1.20481896,  2.90385907],\n",
              "       [ 1.13953636, -0.68045318,  0.7513295 ,  0.98753806],\n",
              "       [ 4.45189244, -0.86197496,  0.17517863, -1.0421635 ],\n",
              "       [-0.82781526, -0.72334457,  0.93312212,  1.81729985],\n",
              "       [ 1.78803445, -0.60541123,  0.75623019,  0.86588001],\n",
              "       [ 0.86661339, -0.71456934,  0.74656938,  1.03241893],\n",
              "       [-2.70572102, -0.90546637,  0.95637904,  2.25731906],\n",
              "       [ 0.80843926, -0.9192258 ,  0.53546145,  0.54982962],\n",
              "       [ 4.73673709, -0.71915265,  0.29426577, -0.82167422],\n",
              "       [-1.46959291, -0.98943935,  0.72409055,  1.4593897 ]])"
            ]
          },
          "metadata": {},
          "execution_count": 18
        }
      ]
    },
    {
      "cell_type": "code",
      "source": [
        "def sigmoid(x):\n",
        "  return 1 / (1 + np.exp(-x))\n",
        "\n",
        "a = sigmoid(h)\n",
        "a"
      ],
      "metadata": {
        "colab": {
          "base_uri": "https://localhost:8080/"
        },
        "id": "ignyg0W6QyRL",
        "outputId": "8d0c99e8-7afb-4f25-c0be-3a83551120e0"
      },
      "execution_count": 20,
      "outputs": [
        {
          "output_type": "execute_result",
          "data": {
            "text/plain": [
              "array([[0.04652339, 0.33043724, 0.76938094, 0.94803688],\n",
              "       [0.7575945 , 0.33616017, 0.67946832, 0.72860137],\n",
              "       [0.98847782, 0.29692689, 0.543683  , 0.26073276],\n",
              "       [0.30410722, 0.32665691, 0.71770827, 0.86024181],\n",
              "       [0.85668613, 0.35310667, 0.68053471, 0.70388769],\n",
              "       [0.70404053, 0.32858997, 0.67843072, 0.73738459],\n",
              "       [0.06263661, 0.28792845, 0.72239624, 0.90528   ],\n",
              "       [0.69177682, 0.28511567, 0.63075601, 0.63409606],\n",
              "       [0.99130899, 0.3275796 , 0.57304014, 0.30540838],\n",
              "       [0.1870045 , 0.27102283, 0.67350715, 0.81143931]])"
            ]
          },
          "metadata": {},
          "execution_count": 20
        }
      ]
    },
    {
      "cell_type": "code",
      "source": [
        "def sigmoid(x):\n",
        "  return 1 / (1 + np.exp(-x))\n",
        "\n",
        "x = np.random.randn(10,2) # input\n",
        "W1 = np.random.randn(2, 4) # weight\n",
        "b1 = np.random.randn(4) # bias\n",
        "W2 = np.random.randn(4, 3) # weight\n",
        "b2 = np.random.randn(3) # bias\n",
        "\n",
        "h = np.matmul(x, W1) + b1\n",
        "a = sigmoid(h)\n",
        "s = np.matmul(a, W2) + b2"
      ],
      "metadata": {
        "id": "frFm2OBuRGo1"
      },
      "execution_count": 21,
      "outputs": []
    },
    {
      "cell_type": "code",
      "source": [
        "h"
      ],
      "metadata": {
        "colab": {
          "base_uri": "https://localhost:8080/"
        },
        "id": "7Ym3CZUGRi5m",
        "outputId": "d4888b40-5920-481d-d8a0-36511a972655"
      },
      "execution_count": 22,
      "outputs": [
        {
          "output_type": "execute_result",
          "data": {
            "text/plain": [
              "array([[-3.14594389, -0.47711802,  0.53037136,  2.06110085],\n",
              "       [-1.33015964,  1.65437651,  3.96796335,  2.96020778],\n",
              "       [-1.42341885, -1.66378042, -1.78871464, -0.03158384],\n",
              "       [ 0.41951163,  0.10576107,  1.0153909 ,  0.51943365],\n",
              "       [ 4.43322256, -0.64556941, -0.88633524, -2.5081493 ],\n",
              "       [-4.32917958,  1.11351314,  3.47202703,  4.2105163 ],\n",
              "       [-3.47336332, -1.48637306, -1.17624704,  1.32530216],\n",
              "       [-0.57334417,  0.143808  ,  1.22876722,  1.13266634],\n",
              "       [ 0.27058493,  0.86422714,  2.35649737,  1.30246034],\n",
              "       [ 2.33393298,  0.02304797,  0.58769709, -0.67158412]])"
            ]
          },
          "metadata": {},
          "execution_count": 22
        }
      ]
    },
    {
      "cell_type": "code",
      "source": [
        "a"
      ],
      "metadata": {
        "colab": {
          "base_uri": "https://localhost:8080/"
        },
        "id": "_K8tLU_ZRjqK",
        "outputId": "b9ffb670-b756-4549-fc2a-f6bfb984cd1f"
      },
      "execution_count": 23,
      "outputs": [
        {
          "output_type": "execute_result",
          "data": {
            "text/plain": [
              "array([[0.0412514 , 0.38293289, 0.62956972, 0.8870645 ],\n",
              "       [0.20913296, 0.83948167, 0.98143911, 0.95074373],\n",
              "       [0.19412617, 0.15925517, 0.14323038, 0.4921047 ],\n",
              "       [0.60336638, 0.52641565, 0.73407383, 0.62701532],\n",
              "       [0.98826323, 0.34398865, 0.29186668, 0.07528886],\n",
              "       [0.01300694, 0.75278349, 0.96988129, 0.98537826],\n",
              "       [0.0300797 , 0.18446673, 0.23572766, 0.7900625 ],\n",
              "       [0.36046553, 0.53589017, 0.77360274, 0.75633063],\n",
              "       [0.5672365 , 0.70354307, 0.91344929, 0.78624876],\n",
              "       [0.91164863, 0.50576174, 0.64283658, 0.33814222]])"
            ]
          },
          "metadata": {},
          "execution_count": 23
        }
      ]
    },
    {
      "cell_type": "code",
      "source": [
        "s"
      ],
      "metadata": {
        "colab": {
          "base_uri": "https://localhost:8080/"
        },
        "id": "fVeYIKEYRkV9",
        "outputId": "51884c7b-4b91-47d9-c863-f69f8bdb66e8"
      },
      "execution_count": 24,
      "outputs": [
        {
          "output_type": "execute_result",
          "data": {
            "text/plain": [
              "array([[ 0.10584474, -0.31902645,  0.68355142],\n",
              "       [ 0.51487362, -0.76160961,  0.98631821],\n",
              "       [-0.47250473, -0.87605487,  0.99098087],\n",
              "       [ 0.18323389, -0.95696258,  1.34390502],\n",
              "       [-0.37695237, -1.73893967,  2.02791938],\n",
              "       [ 0.49287625, -0.42153145,  0.89431805],\n",
              "       [-0.31423028, -0.61028767,  0.45593301],\n",
              "       [ 0.24222748, -0.67295776,  1.1223531 ],\n",
              "       [ 0.41172596, -0.95789312,  1.22027401],\n",
              "       [ 0.036517  , -1.36986813,  1.85181327]])"
            ]
          },
          "metadata": {},
          "execution_count": 24
        }
      ]
    },
    {
      "cell_type": "markdown",
      "source": [
        "## 1.2.2 계층으로 클래스화 및 순전파 구현"
      ],
      "metadata": {
        "id": "yvFNV4X1RsI8"
      }
    },
    {
      "cell_type": "code",
      "source": [
        "class Sigmoid:\n",
        "    def __init__(self):\n",
        "        self.params = []\n",
        "\n",
        "    def forward(self, x):\n",
        "        return 1 / (1 + np.exp(-x))\n",
        "\n",
        "\n",
        "class Affine:\n",
        "    def __init__(self, W, b):\n",
        "        self.params = [W, b]\n",
        "\n",
        "    def forward(self, x):\n",
        "        W, b = self.params\n",
        "        out = np.dot(x, W) + b\n",
        "        return out\n",
        "\n",
        "\n",
        "class TwoLayerNet:\n",
        "    def __init__(self, input_size, hidden_size, output_size):\n",
        "        I, H, O = input_size, hidden_size, output_size\n",
        "\n",
        "        # 가중치와 편향 초기화\n",
        "        W1 = np.random.randn(I, H)\n",
        "        b1 = np.random.randn(H)\n",
        "        W2 = np.random.randn(H, O)\n",
        "        b2 = np.random.randn(O)\n",
        "\n",
        "        # 계층 생성\n",
        "        self.layers = [\n",
        "            Affine(W1, b1),\n",
        "            Sigmoid(),\n",
        "            Affine(W2, b2)\n",
        "        ]\n",
        "\n",
        "        # 모든 가중치를 리스트에 모은다.\n",
        "        self.params = []\n",
        "        for layer in self.layers:\n",
        "            self.params += layer.params\n",
        "\n",
        "    def predict(self, x):\n",
        "        for layer in self.layers:\n",
        "            x = layer.forward(x)\n",
        "        return x"
      ],
      "metadata": {
        "id": "puUwuPVzUJ0h"
      },
      "execution_count": 41,
      "outputs": []
    },
    {
      "cell_type": "code",
      "source": [
        "x = np.random.randn(10, 2)\n",
        "model = TwoLayerNet(2, 4, 3)\n",
        "s = model.predict(x)\n",
        "print(s)"
      ],
      "metadata": {
        "colab": {
          "base_uri": "https://localhost:8080/"
        },
        "id": "BsJ7PXLrVY27",
        "outputId": "54cdb536-cb5b-4262-c06f-866c9b282a72"
      },
      "execution_count": 42,
      "outputs": [
        {
          "output_type": "stream",
          "name": "stdout",
          "text": [
            "[[-3.41468901 -0.41782945 -1.56288705]\n",
            " [-3.28394813  0.14987844 -0.58933637]\n",
            " [-3.52621956  0.4185557  -0.63195559]\n",
            " [-3.70000975 -0.57580272 -1.97061089]\n",
            " [-3.05474549 -1.27503052 -1.80842679]\n",
            " [-3.73340604  0.12948995 -1.48428787]\n",
            " [-3.50028407  0.29691011 -0.76955411]\n",
            " [-3.52588893 -0.43536553 -1.7375168 ]\n",
            " [-3.29337459 -0.90570576 -1.84533775]\n",
            " [-3.53286962  0.47360351 -0.55682755]]\n"
          ]
        }
      ]
    },
    {
      "cell_type": "markdown",
      "source": [
        "# 1.3 신경망 학습"
      ],
      "metadata": {
        "id": "kR_4eLguWApB"
      }
    },
    {
      "cell_type": "code",
      "source": [
        "# coding: utf-8\n",
        "\n",
        "class MatMul:\n",
        "    def __init__(self, W):\n",
        "        self.params = [W]\n",
        "        self.grads = [np.zeros_like(W)]\n",
        "        self.x = None\n",
        "\n",
        "    def forward(self, x):\n",
        "        W, = self.params\n",
        "        out = np.dot(x, W)\n",
        "        self.x = x\n",
        "        return out\n",
        "\n",
        "    def backward(self, dout):\n",
        "        W, = self.params\n",
        "        dx = np.dot(dout, W.T)\n",
        "        dW = np.dot(self.x.T, dout)\n",
        "        self.grads[0][...] = dW\n",
        "        return dx\n",
        "\n",
        "\n",
        "class Affine:\n",
        "    def __init__(self, W, b):\n",
        "        self.params = [W, b]\n",
        "        self.grads = [np.zeros_like(W), np.zeros_like(b)]\n",
        "        self.x = None\n",
        "\n",
        "    def forward(self, x):\n",
        "        W, b = self.params\n",
        "        out = np.dot(x, W) + b\n",
        "        self.x = x\n",
        "        return out\n",
        "\n",
        "    def backward(self, dout):\n",
        "        W, b = self.params\n",
        "        dx = np.dot(dout, W.T)\n",
        "        dW = np.dot(self.x.T, dout)\n",
        "        db = np.sum(dout, axis=0)\n",
        "\n",
        "        self.grads[0][...] = dW\n",
        "        self.grads[1][...] = db\n",
        "        return dx\n",
        "\n",
        "\n",
        "class Softmax:\n",
        "    def __init__(self):\n",
        "        self.params, self.grads = [], []\n",
        "        self.out = None\n",
        "\n",
        "    def forward(self, x):\n",
        "        self.out = softmax(x)\n",
        "        return self.out\n",
        "\n",
        "    def backward(self, dout):\n",
        "        dx = self.out * dout\n",
        "        sumdx = np.sum(dx, axis=1, keepdims=True)\n",
        "        dx -= self.out * sumdx\n",
        "        return dx\n",
        "\n",
        "\n",
        "class SoftmaxWithLoss:\n",
        "    def __init__(self):\n",
        "        self.params, self.grads = [], []\n",
        "        self.y = None  # softmax의 출력\n",
        "        self.t = None  # 정답 레이블\n",
        "\n",
        "    def forward(self, x, t):\n",
        "        self.t = t\n",
        "        self.y = softmax(x)\n",
        "\n",
        "        # 정답 레이블이 원핫 벡터일 경우 정답의 인덱스로 변환\n",
        "        if self.t.size == self.y.size:\n",
        "            self.t = self.t.argmax(axis=1)\n",
        "\n",
        "        loss = cross_entropy_error(self.y, self.t)\n",
        "        return loss\n",
        "\n",
        "    def backward(self, dout=1):\n",
        "        batch_size = self.t.shape[0]\n",
        "\n",
        "        dx = self.y.copy()\n",
        "        dx[np.arange(batch_size), self.t] -= 1\n",
        "        dx *= dout\n",
        "        dx = dx / batch_size\n",
        "\n",
        "        return dx\n",
        "\n",
        "\n",
        "class Sigmoid:\n",
        "    def __init__(self):\n",
        "        self.params, self.grads = [], []\n",
        "        self.out = None\n",
        "\n",
        "    def forward(self, x):\n",
        "        out = 1 / (1 + np.exp(-x))\n",
        "        self.out = out\n",
        "        return out\n",
        "\n",
        "    def backward(self, dout):\n",
        "        dx = dout * (1.0 - self.out) * self.out\n",
        "        return dx\n",
        "\n",
        "\n",
        "class SigmoidWithLoss:\n",
        "    def __init__(self):\n",
        "        self.params, self.grads = [], []\n",
        "        self.loss = None\n",
        "        self.y = None  # sigmoid의 출력\n",
        "        self.t = None  # 정답 데이터\n",
        "\n",
        "    def forward(self, x, t):\n",
        "        self.t = t\n",
        "        self.y = 1 / (1 + np.exp(-x))\n",
        "\n",
        "        self.loss = cross_entropy_error(np.c_[1 - self.y, self.y], self.t)\n",
        "\n",
        "        return self.loss\n",
        "\n",
        "    def backward(self, dout=1):\n",
        "        batch_size = self.t.shape[0]\n",
        "\n",
        "        dx = (self.y - self.t) * dout / batch_size\n",
        "        return dx\n",
        "\n",
        "\n",
        "class Dropout:\n",
        "    '''\n",
        "    http://arxiv.org/abs/1207.0580\n",
        "    '''\n",
        "    def __init__(self, dropout_ratio=0.5):\n",
        "        self.params, self.grads = [], []\n",
        "        self.dropout_ratio = dropout_ratio\n",
        "        self.mask = None\n",
        "\n",
        "    def forward(self, x, train_flg=True):\n",
        "        if train_flg:\n",
        "            self.mask = np.random.rand(*x.shape) > self.dropout_ratio\n",
        "            return x * self.mask\n",
        "        else:\n",
        "            return x * (1.0 - self.dropout_ratio)\n",
        "\n",
        "    def backward(self, dout):\n",
        "        return dout * self.mask\n",
        "\n",
        "\n",
        "class Embedding:\n",
        "    def __init__(self, W):\n",
        "        self.params = [W]\n",
        "        self.grads = [np.zeros_like(W)]\n",
        "        self.idx = None\n",
        "\n",
        "    def forward(self, idx):\n",
        "        W, = self.params\n",
        "        self.idx = idx\n",
        "        out = W[idx]\n",
        "        return out\n",
        "\n",
        "    def backward(self, dout):\n",
        "        dW, = self.grads\n",
        "        dW[...] = 0\n",
        "        np.add.at(dW, self.idx, dout)\n",
        "        return None"
      ],
      "metadata": {
        "id": "ENhFnkZzVrvs"
      },
      "execution_count": 44,
      "outputs": []
    },
    {
      "cell_type": "markdown",
      "source": [
        "## Repeat node"
      ],
      "metadata": {
        "id": "BYe09OlBW3sN"
      }
    },
    {
      "cell_type": "code",
      "source": [
        "D, N = 8, 7\n",
        "x = np.random.randn(1, D)\n",
        "y = np.repeat(x, N, axis=0)"
      ],
      "metadata": {
        "id": "1Sxh8FrMWb2U"
      },
      "execution_count": 45,
      "outputs": []
    },
    {
      "cell_type": "code",
      "source": [
        "dy = np.random.randn(N, D) # random gradient\n",
        "dx = np.sum(dy, axis=0, keepdims=True) # back propagation"
      ],
      "metadata": {
        "id": "EatdGbFkXEQ8"
      },
      "execution_count": 46,
      "outputs": []
    },
    {
      "cell_type": "markdown",
      "source": [
        "## Sum node"
      ],
      "metadata": {
        "id": "yQvOh8EmXXLb"
      }
    },
    {
      "cell_type": "code",
      "source": [
        "D, N = 8, 7\n",
        "x = np.random.randn(N, D)\n",
        "y = np.sum(x, axis=0, keepdims=True) # forward propagation\n",
        "\n",
        "dy = np.random.randn(1, D) # random gradient\n",
        "dx = np.repeat(dy, N, axis=0) # back propagation"
      ],
      "metadata": {
        "id": "Pmp5pQulXPnA"
      },
      "execution_count": 47,
      "outputs": []
    },
    {
      "cell_type": "code",
      "source": [
        ""
      ],
      "metadata": {
        "id": "OUqN72CgXpm2"
      },
      "execution_count": null,
      "outputs": []
    },
    {
      "cell_type": "code",
      "source": [
        "x = np.array([[1, -2, 3],\n",
        "              [7, 5, 0],\n",
        "              [-2, -1, 2]])\n",
        "\n",
        "y = np.array([[0, 1],\n",
        "              [1, -1],\n",
        "              [-2, 1]])\n",
        "\n",
        "# (0 + -2 + -6), (1 + 2 + 3)\n",
        "\n",
        "x @ y"
      ],
      "metadata": {
        "colab": {
          "base_uri": "https://localhost:8080/"
        },
        "id": "W9Ae0y-1bbVN",
        "outputId": "e50720e8-13ed-42ec-fda9-135dc49e1a7f"
      },
      "execution_count": 50,
      "outputs": [
        {
          "output_type": "execute_result",
          "data": {
            "text/plain": [
              "array([[-8,  6],\n",
              "       [ 5,  2],\n",
              "       [-5,  1]])"
            ]
          },
          "metadata": {},
          "execution_count": 50
        }
      ]
    },
    {
      "cell_type": "code",
      "source": [
        "x = np.array([[1, -2, 3],\n",
        "              [7, 5, 0],\n",
        "              [-2, -1, 2]])\n",
        "\n",
        "y = np.array([[0, 1, -1],\n",
        "              [1, -1, 0]])\n",
        "\n",
        "# 1 + -2 + -3\n",
        "np.inner(x, y)"
      ],
      "metadata": {
        "colab": {
          "base_uri": "https://localhost:8080/"
        },
        "id": "CixWkfu5biEo",
        "outputId": "5c052f77-f126-4d00-d18e-6d10fdadee43"
      },
      "execution_count": 53,
      "outputs": [
        {
          "output_type": "execute_result",
          "data": {
            "text/plain": [
              "array([[-5,  3],\n",
              "       [ 5,  2],\n",
              "       [-3, -1]])"
            ]
          },
          "metadata": {},
          "execution_count": 53
        }
      ]
    },
    {
      "cell_type": "code",
      "source": [
        "x = np.array([[1, -2, 3],\n",
        "              [7, 5, 0],\n",
        "              [-2, -1, 2]])\n",
        "\n",
        "np.linalg.inv(x)"
      ],
      "metadata": {
        "colab": {
          "base_uri": "https://localhost:8080/"
        },
        "id": "B1DW8U23e97p",
        "outputId": "6bd4796d-e713-4557-bc03-a0d05823c2c6"
      },
      "execution_count": 55,
      "outputs": [
        {
          "output_type": "execute_result",
          "data": {
            "text/plain": [
              "array([[ 0.21276596,  0.0212766 , -0.31914894],\n",
              "       [-0.29787234,  0.17021277,  0.44680851],\n",
              "       [ 0.06382979,  0.10638298,  0.40425532]])"
            ]
          },
          "metadata": {},
          "execution_count": 55
        }
      ]
    },
    {
      "cell_type": "code",
      "source": [
        "x @ np.linalg.inv(x)"
      ],
      "metadata": {
        "colab": {
          "base_uri": "https://localhost:8080/"
        },
        "id": "R9QJN4-8gjcO",
        "outputId": "aaf3e77d-3691-4b0a-f07b-821924bfaea2"
      },
      "execution_count": 56,
      "outputs": [
        {
          "output_type": "execute_result",
          "data": {
            "text/plain": [
              "array([[ 1.00000000e+00, -1.38777878e-17,  0.00000000e+00],\n",
              "       [-2.22044605e-16,  1.00000000e+00, -5.55111512e-17],\n",
              "       [-2.77555756e-17,  0.00000000e+00,  1.00000000e+00]])"
            ]
          },
          "metadata": {},
          "execution_count": 56
        }
      ]
    },
    {
      "cell_type": "code",
      "source": [
        "y = np.array([[0, 1],\n",
        "              [1, -1],\n",
        "              [-2, 1]])\n",
        "\n",
        "np.linalg.pinv(y)"
      ],
      "metadata": {
        "colab": {
          "base_uri": "https://localhost:8080/"
        },
        "id": "OAbYxE1lgofM",
        "outputId": "a81e713d-9bad-4d52-bbbe-a5057aca0a43"
      },
      "execution_count": 57,
      "outputs": [
        {
          "output_type": "execute_result",
          "data": {
            "text/plain": [
              "array([[ 5.00000000e-01,  4.09730229e-17, -5.00000000e-01],\n",
              "       [ 8.33333333e-01, -3.33333333e-01, -1.66666667e-01]])"
            ]
          },
          "metadata": {},
          "execution_count": 57
        }
      ]
    },
    {
      "cell_type": "code",
      "source": [
        "np.linalg.pinv(y) @ y"
      ],
      "metadata": {
        "colab": {
          "base_uri": "https://localhost:8080/"
        },
        "id": "aq_6VsMuhGI1",
        "outputId": "2c20275f-5c87-42dc-fb63-c262faa544b7"
      },
      "execution_count": 58,
      "outputs": [
        {
          "output_type": "execute_result",
          "data": {
            "text/plain": [
              "array([[ 1.00000000e+00, -2.22044605e-16],\n",
              "       [ 5.55111512e-17,  1.00000000e+00]])"
            ]
          },
          "metadata": {},
          "execution_count": 58
        }
      ]
    }
  ]
}