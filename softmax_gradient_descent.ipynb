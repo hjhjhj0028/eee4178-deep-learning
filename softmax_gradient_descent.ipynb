{
  "nbformat": 4,
  "nbformat_minor": 0,
  "metadata": {
    "colab": {
      "name": "softmax_gradient_descent.ipynb",
      "provenance": [],
      "authorship_tag": "ABX9TyO55FTKaUNGla8exL8n+jL5",
      "include_colab_link": true
    },
    "kernelspec": {
      "name": "python3",
      "display_name": "Python 3"
    },
    "language_info": {
      "name": "python"
    }
  },
  "cells": [
    {
      "cell_type": "markdown",
      "metadata": {
        "id": "view-in-github",
        "colab_type": "text"
      },
      "source": [
        "<a href=\"https://colab.research.google.com/github/gabie0208/eee4178-deep-learning/blob/main/softmax_gradient_descent.ipynb\" target=\"_parent\"><img src=\"https://colab.research.google.com/assets/colab-badge.svg\" alt=\"Open In Colab\"/></a>"
      ]
    },
    {
      "cell_type": "code",
      "source": [
        "def softmax(vec):\n",
        "  denumerator = np.exp(vec - np.max(vec, axis=1, keepdims=True))\n",
        "  numerator = np.sum(denumerator, axis=1, keepdims=True)\n",
        "  val = denumerator / numerator\n",
        "  return val\n",
        "\n",
        "vec = np.array([[1,2,0], [-1,0,1], [-10,0,10]])\n",
        "softmax(vec)"
      ],
      "metadata": {
        "colab": {
          "base_uri": "https://localhost:8080/"
        },
        "id": "0KsyYXt8JWn7",
        "outputId": "f56c8bc0-37ab-43dd-8788-1e2cdacfd542"
      },
      "execution_count": 13,
      "outputs": [
        {
          "output_type": "execute_result",
          "data": {
            "text/plain": [
              "array([[2.44728471e-01, 6.65240956e-01, 9.00305732e-02],\n",
              "       [9.00305732e-02, 2.44728471e-01, 6.65240956e-01],\n",
              "       [2.06106005e-09, 4.53978686e-05, 9.99954600e-01]])"
            ]
          },
          "metadata": {},
          "execution_count": 13
        }
      ]
    },
    {
      "cell_type": "code",
      "source": [
        "def one_hot(val, dim):\n",
        "  return [np.eye(dim)[_] for _ in val]\n",
        "\n",
        "def one_hot_encoding(vec):\n",
        "  vec_dim = vec.shape[1]\n",
        "  vec_argmax = np.argmax(vec, axis=1)\n",
        "  return one_hot(vec_argmax, vec_dim)\n",
        "\n",
        "def softmax(vec):\n",
        "  denumerator = np.exp(vec - np.max(vec, axis=1, keepdims=True))\n",
        "  numerator = np.sum(denumerator, axis=1, keepdims=True)\n",
        "  val = denumerator / numerator\n",
        "  return val\n",
        "\n",
        "vec = np.array([[1,2,0], [-1,0,1], [-10,0,10]])\n",
        "print(one_hot_encoding(vec))\n",
        "print(one_hot_encoding(softmax(vec)))"
      ],
      "metadata": {
        "colab": {
          "base_uri": "https://localhost:8080/"
        },
        "id": "NbyRNdD6NmAz",
        "outputId": "4c36a5fd-6f8b-4e4a-99bf-a76a772f3aec"
      },
      "execution_count": 15,
      "outputs": [
        {
          "output_type": "stream",
          "name": "stdout",
          "text": [
            "[array([0., 1., 0.]), array([0., 0., 1.]), array([0., 0., 1.])]\n",
            "[array([0., 1., 0.]), array([0., 0., 1.]), array([0., 0., 1.])]\n"
          ]
        }
      ]
    },
    {
      "cell_type": "code",
      "source": [
        "import sympy as sym\n",
        "from sympy.abc import x\n",
        "\n",
        "sym.diff(sym.poly(x**2 + 2*x +3), x)"
      ],
      "metadata": {
        "colab": {
          "base_uri": "https://localhost:8080/",
          "height": 38
        },
        "id": "PWQ1WDwrOSyZ",
        "outputId": "f26c564d-a0c5-486e-ead3-ddc4ccf4e63f"
      },
      "execution_count": 16,
      "outputs": [
        {
          "output_type": "execute_result",
          "data": {
            "text/latex": "$\\displaystyle \\operatorname{Poly}{\\left( 2 x + 2, x, domain=\\mathbb{Z} \\right)}$",
            "text/plain": [
              "Poly(2*x + 2, x, domain='ZZ')"
            ]
          },
          "metadata": {},
          "execution_count": 16
        }
      ]
    },
    {
      "cell_type": "code",
      "source": [
        "import numpy as np\n",
        "\n",
        "def func(val):\n",
        "  fun = sym.poly(x**2 + 2*x + 3)\n",
        "  return fun.subs(x, val), fun\n",
        "\n",
        "def func_gradient(fun, val):\n",
        "  _, function = fun(val)\n",
        "  diff = sym.diff(function, x)\n",
        "  return diff.subs(x, val), diff\n",
        "\n",
        "def gradient_descent(fun, init_point, lr_rate = 1e-2, epsilon = 1e-5):\n",
        "  cnt = 0\n",
        "  val = init_point\n",
        "  diff, _ = func_gradient(fun, init_point)\n",
        "  while np.abs(diff) > epsilon:\n",
        "    val = val - lr_rate * diff\n",
        "    diff, _ = func_gradient(fun, val)\n",
        "    cnt += 1\n",
        "\n",
        "  print(\"function: {}, num of operation : {}, minimum point : ({}, {})\" .format(fun(val)[1], cnt, val, fun(val)[0]))\n",
        "\n",
        "gradient_descent(fun=func, init_point = np.random.uniform(-2, 2))"
      ],
      "metadata": {
        "colab": {
          "base_uri": "https://localhost:8080/"
        },
        "id": "ngpV1SLXeeFe",
        "outputId": "38f32146-5f20-4722-d2f4-d9dc9fbc0d79"
      },
      "execution_count": 17,
      "outputs": [
        {
          "output_type": "stream",
          "name": "stdout",
          "text": [
            "function: Poly(x**2 + 2*x + 3, x, domain='ZZ'), num of operation : 595, minimum point : (-0.999995089606767, 2.00000000002411)\n"
          ]
        }
      ]
    },
    {
      "cell_type": "code",
      "source": [
        "import sympy as sym\n",
        "from sympy.abc import x, y\n",
        "\n",
        "sym.diff(sym.poly(x**2 + 2*x*y +3) + sym.cos(x + 2*y), x)"
      ],
      "metadata": {
        "colab": {
          "base_uri": "https://localhost:8080/",
          "height": 197
        },
        "id": "iRvdXONyehKH",
        "outputId": "1ac56900-351a-4bb4-aeb3-95a3e445dd68"
      },
      "execution_count": 18,
      "outputs": [
        {
          "output_type": "stream",
          "name": "stderr",
          "text": [
            "/usr/local/lib/python3.7/dist-packages/sympy/polys/polytools.py:79: SymPyDeprecationWarning: \n",
            "\n",
            "Mixing Poly with non-polynomial expressions in binary operations has\n",
            "been deprecated since SymPy 1.6. Use the as_expr or as_poly method to\n",
            "convert types instead. See https://github.com/sympy/sympy/issues/18613\n",
            "for more info.\n",
            "\n",
            "  useinstead=\"the as_expr or as_poly method to convert types\").warn()\n"
          ]
        },
        {
          "output_type": "execute_result",
          "data": {
            "text/latex": "$\\displaystyle 2 x + 2 y - \\sin{\\left(x + 2 y \\right)}$",
            "text/plain": [
              "2*x + 2*y - sin(x + 2*y)"
            ]
          },
          "metadata": {},
          "execution_count": 18
        }
      ]
    },
    {
      "cell_type": "code",
      "source": [
        ""
      ],
      "metadata": {
        "id": "CI-CcPB5ejz-"
      },
      "execution_count": null,
      "outputs": []
    }
  ]
}