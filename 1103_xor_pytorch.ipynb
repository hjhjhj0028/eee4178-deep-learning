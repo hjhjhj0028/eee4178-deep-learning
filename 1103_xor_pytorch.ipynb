{
  "nbformat": 4,
  "nbformat_minor": 0,
  "metadata": {
    "colab": {
      "name": "1103-xor-pytorch.ipynb",
      "provenance": []
    },
    "kernelspec": {
      "name": "python3",
      "display_name": "Python 3"
    },
    "language_info": {
      "name": "python"
    }
  },
  "cells": [
    {
      "cell_type": "code",
      "metadata": {
        "id": "ZesexFsrHknf"
      },
      "source": [
        "import numpy as np\n",
        "import torch\n",
        "import torch.nn as nn\n",
        "import matplotlib.pyplot as plt"
      ],
      "execution_count": 1,
      "outputs": []
    },
    {
      "cell_type": "code",
      "metadata": {
        "id": "Bl3rSrHAHoWa"
      },
      "source": [
        "x = torch.tensor([[0.,0.],[0.,1.], [1.,0.], [1.,1.]])\n",
        "y = torch.tensor([0.,1.,1.,0.]).view(-1,1)"
      ],
      "execution_count": 2,
      "outputs": []
    },
    {
      "cell_type": "code",
      "metadata": {
        "colab": {
          "base_uri": "https://localhost:8080/"
        },
        "id": "6qMF81ejHpi1",
        "outputId": "8a7224d0-6eeb-4453-9fe6-f03a6b8e7501"
      },
      "source": [
        "y"
      ],
      "execution_count": 3,
      "outputs": [
        {
          "output_type": "execute_result",
          "data": {
            "text/plain": [
              "tensor([[0.],\n",
              "        [1.],\n",
              "        [1.],\n",
              "        [0.]])"
            ]
          },
          "metadata": {},
          "execution_count": 3
        }
      ]
    },
    {
      "cell_type": "code",
      "metadata": {
        "id": "Vu37Cb3NHrJU"
      },
      "source": [
        "class XOR_net(nn.Module):\n",
        "  def __init__(self):\n",
        "    super(XOR_net, self).__init__()\n",
        "    self.layer1 = nn.Sequential(\n",
        "        nn.Linear(2,1),\n",
        "        nn.Sigmoid()\n",
        "    )\n",
        "    self.layer2 = nn.Sequential(\n",
        "        nn.Linear(2,3),\n",
        "        nn.Sigmoid(),\n",
        "        nn.Linear(3,1),\n",
        "        nn.Sigmoid()\n",
        "    )\n",
        "\n",
        "  def forward(self, input, num_layer):\n",
        "    if num_layer == 1:\n",
        "      out = self.layer1(input)\n",
        "    elif num_layer == 2:\n",
        "      out = self.layer2(input)\n",
        "    else:\n",
        "      print(\"out of range\")\n",
        "      raise\n",
        "    return out"
      ],
      "execution_count": 4,
      "outputs": []
    },
    {
      "cell_type": "code",
      "metadata": {
        "id": "gYg5bQOOHtKG"
      },
      "source": [
        "net = XOR_net()"
      ],
      "execution_count": 5,
      "outputs": []
    },
    {
      "cell_type": "code",
      "metadata": {
        "colab": {
          "base_uri": "https://localhost:8080/"
        },
        "id": "3fPNUmL4HuqF",
        "outputId": "cd001908-bc9b-4928-bf29-0e4c823e9a4f"
      },
      "source": [
        "print(net)"
      ],
      "execution_count": 6,
      "outputs": [
        {
          "output_type": "stream",
          "name": "stdout",
          "text": [
            "XOR_net(\n",
            "  (layer1): Sequential(\n",
            "    (0): Linear(in_features=2, out_features=1, bias=True)\n",
            "    (1): Sigmoid()\n",
            "  )\n",
            "  (layer2): Sequential(\n",
            "    (0): Linear(in_features=2, out_features=3, bias=True)\n",
            "    (1): Sigmoid()\n",
            "    (2): Linear(in_features=3, out_features=1, bias=True)\n",
            "    (3): Sigmoid()\n",
            "  )\n",
            ")\n"
          ]
        }
      ]
    },
    {
      "cell_type": "code",
      "metadata": {
        "id": "2xmvUHQAHvyE"
      },
      "source": [
        "learning_rate = 0.05\n",
        "epochs = 10000"
      ],
      "execution_count": 7,
      "outputs": []
    },
    {
      "cell_type": "code",
      "metadata": {
        "id": "HRznOhCWHxMi"
      },
      "source": [
        "criterion = nn.BCELoss()\n",
        "optimizer = torch.optim.SGD(net.parameters(), lr = learning_rate)"
      ],
      "execution_count": 8,
      "outputs": []
    },
    {
      "cell_type": "code",
      "metadata": {
        "colab": {
          "base_uri": "https://localhost:8080/"
        },
        "id": "70X39ISpHy2I",
        "outputId": "4ca0fb2b-1353-429b-d5cd-00f4c6dbed24"
      },
      "source": [
        "error1, error2 = [], []\n",
        "\n",
        "for epoch in range(epochs):\n",
        "  for i, (input, ans) in enumerate(zip(x,y)):\n",
        "    output1 = net(input,1)\n",
        "    output2 = net(input,2)\n",
        "\n",
        "    loss1 = criterion(output1, ans)\n",
        "    loss2 = criterion(output2, ans)\n",
        "\n",
        "    optimizer.zero_grad()\n",
        "    loss1.backward()\n",
        "    loss2.backward()\n",
        "    optimizer.step()\n",
        "\n",
        "    error1.append(loss1.detach().numpy())\n",
        "    error2.append(loss2.detach().numpy())\n",
        "\n",
        "  if epoch % 500 == 0 or (epoch+1)==epochs:\n",
        "    print('Epoch [{}/{}] Loss1: {:.4f} Loss2: {:.4f}'.format(epoch+1, epochs, loss1, loss2))"
      ],
      "execution_count": 9,
      "outputs": [
        {
          "output_type": "stream",
          "name": "stdout",
          "text": [
            "Epoch [1/10000] Loss1: 0.8075 Loss2: 0.8404\n",
            "Epoch [501/10000] Loss1: 0.7069 Loss2: 0.6941\n",
            "Epoch [1001/10000] Loss1: 0.7059 Loss2: 0.6314\n",
            "Epoch [1501/10000] Loss1: 0.7059 Loss2: 0.3734\n",
            "Epoch [2001/10000] Loss1: 0.7059 Loss2: 0.1126\n",
            "Epoch [2501/10000] Loss1: 0.7059 Loss2: 0.0521\n",
            "Epoch [3001/10000] Loss1: 0.7059 Loss2: 0.0318\n",
            "Epoch [3501/10000] Loss1: 0.7059 Loss2: 0.0223\n",
            "Epoch [4001/10000] Loss1: 0.7059 Loss2: 0.0170\n",
            "Epoch [4501/10000] Loss1: 0.7059 Loss2: 0.0136\n",
            "Epoch [5001/10000] Loss1: 0.7059 Loss2: 0.0113\n",
            "Epoch [5501/10000] Loss1: 0.7059 Loss2: 0.0096\n",
            "Epoch [6001/10000] Loss1: 0.7059 Loss2: 0.0084\n",
            "Epoch [6501/10000] Loss1: 0.7059 Loss2: 0.0074\n",
            "Epoch [7001/10000] Loss1: 0.7059 Loss2: 0.0066\n",
            "Epoch [7501/10000] Loss1: 0.7059 Loss2: 0.0060\n",
            "Epoch [8001/10000] Loss1: 0.7059 Loss2: 0.0055\n",
            "Epoch [8501/10000] Loss1: 0.7059 Loss2: 0.0050\n",
            "Epoch [9001/10000] Loss1: 0.7059 Loss2: 0.0047\n",
            "Epoch [9501/10000] Loss1: 0.7059 Loss2: 0.0043\n",
            "Epoch [10000/10000] Loss1: 0.7059 Loss2: 0.0040\n"
          ]
        }
      ]
    },
    {
      "cell_type": "code",
      "metadata": {
        "colab": {
          "base_uri": "https://localhost:8080/"
        },
        "id": "j521sr9tH1yy",
        "outputId": "691dff3d-13e4-4054-9ce1-235742a359b5"
      },
      "source": [
        "# Test after train\n",
        "for input, target in zip (x, y):\n",
        "  output1 = net(input,1)\n",
        "  output2 = net(input,2)\n",
        "  print(\"input: \",input, \"layer1: \", output1.data, \"\\tlayer2: \", output2.data, \"\\tanswer:\", target)"
      ],
      "execution_count": 10,
      "outputs": [
        {
          "output_type": "stream",
          "name": "stdout",
          "text": [
            "input:  tensor([0., 0.]) layer1:  tensor([0.5063]) \tlayer2:  tensor([0.0051]) \tanswer: tensor([0.])\n",
            "input:  tensor([0., 1.]) layer1:  tensor([0.5000]) \tlayer2:  tensor([0.9953]) \tanswer: tensor([1.])\n",
            "input:  tensor([1., 0.]) layer1:  tensor([0.4937]) \tlayer2:  tensor([0.9947]) \tanswer: tensor([1.])\n",
            "input:  tensor([1., 1.]) layer1:  tensor([0.4873]) \tlayer2:  tensor([0.0040]) \tanswer: tensor([0.])\n"
          ]
        }
      ]
    },
    {
      "cell_type": "code",
      "metadata": {
        "colab": {
          "base_uri": "https://localhost:8080/",
          "height": 281
        },
        "id": "y9u8BilIH4iQ",
        "outputId": "94b31ea1-3296-4425-ffa2-b6b6522fabce"
      },
      "source": [
        "plt.plot(error1)\n",
        "plt.title(\"Layer1 error\")\n",
        "plt.show()"
      ],
      "execution_count": 11,
      "outputs": [
        {
          "output_type": "display_data",
          "data": {
            "image/png": "[encoded data removed]",
            "text/plain": [
              "<Figure size 432x288 with 1 Axes>"
            ]
          },
          "metadata": {
            "needs_background": "light"
          }
        }
      ]
    },
    {
      "cell_type": "code",
      "metadata": {
        "colab": {
          "base_uri": "https://localhost:8080/",
          "height": 281
        },
        "id": "1wdq7kpmH6EF",
        "outputId": "25888b58-fe31-46d8-a3de-0f6bf0610d57"
      },
      "source": [
        "plt.plot(error2)\n",
        "plt.title(\"Layer2 error\")\n",
        "plt.show()"
      ],
      "execution_count": 12,
      "outputs": [
        {
          "output_type": "display_data",
          "data": {
            "image/png": "[encoded data removed]",
            "text/plain": [
              "<Figure size 432x288 with 1 Axes>"
            ]
          },
          "metadata": {
            "needs_background": "light"
          }
        }
      ]
    }
  ]
}