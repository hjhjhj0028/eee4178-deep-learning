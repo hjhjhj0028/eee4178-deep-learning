{
  "nbformat": 4,
  "nbformat_minor": 0,
  "metadata": {
    "colab": {
      "name": "MNIST 손글씨 이미지 분류.ipynb",
      "provenance": [],
      "authorship_tag": "ABX9TyOaD7WOhwCtGjHkc/X0ukIb",
      "include_colab_link": true
    },
    "kernelspec": {
      "name": "python3",
      "display_name": "Python 3"
    },
    "language_info": {
      "name": "python"
    }
  },
  "cells": [
    {
      "cell_type": "markdown",
      "metadata": {
        "id": "view-in-github",
        "colab_type": "text"
      },
      "source": [
        "<a href=\"https://colab.research.google.com/github/gabie0208/eee4178-deep-learning/blob/main/MNIST_%EC%86%90%EA%B8%80%EC%94%A8_%EC%9D%B4%EB%AF%B8%EC%A7%80_%EB%B6%84%EB%A5%98.ipynb\" target=\"_parent\"><img src=\"https://colab.research.google.com/assets/colab-badge.svg\" alt=\"Open In Colab\"/></a>"
      ]
    },
    {
      "cell_type": "code",
      "metadata": {
        "colab": {
          "base_uri": "https://localhost:8080/"
        },
        "id": "wii2C-8vrVk4",
        "outputId": "04972f00-a98c-45f0-e0af-74b6092329be"
      },
      "source": [
        "import tensorflow as tf\n",
        "\n",
        "# 1. MNIST 데이터셋 임포트\n",
        "mnist = tf.keras.datasets.mnist\n",
        "(x_train, y_train), (x_test, y_test) = mnist.load_data()\n",
        "\n",
        "# 2. 데이터 전처리\n",
        "x_train, x_test = x_train/255.0, x_test/255.0\n",
        "\n",
        "# 3. 모델 구성\n",
        "model = tf.keras.models.Sequential([\n",
        "    tf.keras.layers.Flatten(input_shape=(28, 28)),\n",
        "    tf.keras.layers.Dense(512, activation=tf.nn.relu),\n",
        "    tf.keras.layers.Dense(10, activation=tf.nn.softmax)\n",
        "])\n",
        "\n",
        "# 4. 모델 컴파일\n",
        "model.compile(optimizer='adam',\n",
        "              loss='sparse_categorical_crossentropy',\n",
        "              metrics=['accuracy'])\n",
        "\n",
        "# 5. 모델 훈련\n",
        "model.fit(x_train, y_train, epochs=5)\n",
        "\n",
        "# 6. 정확도 평가\n",
        "test_loss, test_acc = model.evaluate(x_test, y_test)\n",
        "print('테스트 정확도:', test_acc)"
      ],
      "execution_count": 1,
      "outputs": [
        {
          "output_type": "stream",
          "name": "stdout",
          "text": [
            "Downloading data from https://storage.googleapis.com/tensorflow/tf-keras-datasets/mnist.npz\n",
            "11493376/11490434 [==============================] - 0s 0us/step\n",
            "11501568/11490434 [==============================] - 0s 0us/step\n",
            "Epoch 1/5\n",
            "1875/1875 [==============================] - 10s 5ms/step - loss: 0.1994 - accuracy: 0.9409\n",
            "Epoch 2/5\n",
            "1875/1875 [==============================] - 9s 5ms/step - loss: 0.0809 - accuracy: 0.9751\n",
            "Epoch 3/5\n",
            "1875/1875 [==============================] - 9s 5ms/step - loss: 0.0519 - accuracy: 0.9835\n",
            "Epoch 4/5\n",
            "1875/1875 [==============================] - 9s 5ms/step - loss: 0.0369 - accuracy: 0.9886\n",
            "Epoch 5/5\n",
            "1875/1875 [==============================] - 8s 4ms/step - loss: 0.0275 - accuracy: 0.9909\n",
            "313/313 [==============================] - 1s 2ms/step - loss: 0.0769 - accuracy: 0.9783\n",
            "테스트 정확도: 0.9782999753952026\n"
          ]
        }
      ]
    },
    {
      "cell_type": "code",
      "metadata": {
        "colab": {
          "base_uri": "https://localhost:8080/"
        },
        "id": "LFDqjONlrWRu",
        "outputId": "76fe7df7-9fe8-4cad-8505-a37dd475e364"
      },
      "source": [
        "loss, accuracy = [], []\n",
        "for i in range(10):\n",
        "    model.fit(x_train, y_train, epochs=1)\n",
        "    loss.append(model.evaluate(x_test, y_test)[0])\n",
        "    accuracy.append(model.evaluate(x_test, y_test)[1])\n",
        "\n",
        "print(accuracy)"
      ],
      "execution_count": 2,
      "outputs": [
        {
          "output_type": "stream",
          "name": "stdout",
          "text": [
            "1875/1875 [==============================] - 8s 4ms/step - loss: 0.0212 - accuracy: 0.9931\n",
            "313/313 [==============================] - 1s 3ms/step - loss: 0.0782 - accuracy: 0.9791\n",
            "313/313 [==============================] - 1s 3ms/step - loss: 0.0782 - accuracy: 0.9791\n",
            "1875/1875 [==============================] - 8s 4ms/step - loss: 0.0179 - accuracy: 0.9943\n",
            "313/313 [==============================] - 1s 2ms/step - loss: 0.0720 - accuracy: 0.9815\n",
            "313/313 [==============================] - 1s 2ms/step - loss: 0.0720 - accuracy: 0.9815\n",
            "1875/1875 [==============================] - 8s 4ms/step - loss: 0.0132 - accuracy: 0.9954\n",
            "313/313 [==============================] - 1s 2ms/step - loss: 0.0887 - accuracy: 0.9793\n",
            "313/313 [==============================] - 1s 2ms/step - loss: 0.0887 - accuracy: 0.9793\n",
            "1875/1875 [==============================] - 8s 4ms/step - loss: 0.0129 - accuracy: 0.9960\n",
            "313/313 [==============================] - 1s 2ms/step - loss: 0.0781 - accuracy: 0.9805\n",
            "313/313 [==============================] - 1s 2ms/step - loss: 0.0781 - accuracy: 0.9805\n",
            "1875/1875 [==============================] - 8s 4ms/step - loss: 0.0111 - accuracy: 0.9962\n",
            "313/313 [==============================] - 1s 2ms/step - loss: 0.0888 - accuracy: 0.9799\n",
            "313/313 [==============================] - 1s 3ms/step - loss: 0.0888 - accuracy: 0.9799\n",
            "1875/1875 [==============================] - 8s 4ms/step - loss: 0.0085 - accuracy: 0.9969\n",
            "313/313 [==============================] - 1s 3ms/step - loss: 0.1050 - accuracy: 0.9772\n",
            "313/313 [==============================] - 1s 2ms/step - loss: 0.1050 - accuracy: 0.9772\n",
            "1875/1875 [==============================] - 8s 4ms/step - loss: 0.0091 - accuracy: 0.9968\n",
            "313/313 [==============================] - 1s 3ms/step - loss: 0.0960 - accuracy: 0.9808\n",
            "313/313 [==============================] - 1s 3ms/step - loss: 0.0960 - accuracy: 0.9808\n",
            "1875/1875 [==============================] - 9s 5ms/step - loss: 0.0078 - accuracy: 0.9973\n",
            "313/313 [==============================] - 1s 3ms/step - loss: 0.0989 - accuracy: 0.9789\n",
            "313/313 [==============================] - 1s 3ms/step - loss: 0.0989 - accuracy: 0.9789\n",
            "1875/1875 [==============================] - 8s 4ms/step - loss: 0.0076 - accuracy: 0.9975\n",
            "313/313 [==============================] - 1s 3ms/step - loss: 0.0973 - accuracy: 0.9815\n",
            "313/313 [==============================] - 1s 2ms/step - loss: 0.0973 - accuracy: 0.9815\n",
            "1875/1875 [==============================] - 8s 4ms/step - loss: 0.0080 - accuracy: 0.9972\n",
            "313/313 [==============================] - 1s 3ms/step - loss: 0.1122 - accuracy: 0.9789\n",
            "313/313 [==============================] - 1s 3ms/step - loss: 0.1122 - accuracy: 0.9789\n",
            "[0.9790999889373779, 0.9815000295639038, 0.9793000221252441, 0.9804999828338623, 0.9799000024795532, 0.9771999716758728, 0.9807999730110168, 0.9789000153541565, 0.9815000295639038, 0.9789000153541565]\n"
          ]
        }
      ]
    },
    {
      "cell_type": "code",
      "metadata": {
        "id": "zCLUsfRfratA"
      },
      "source": [
        ""
      ],
      "execution_count": null,
      "outputs": []
    }
  ]
}