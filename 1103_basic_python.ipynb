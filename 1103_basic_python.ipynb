{
  "nbformat": 4,
  "nbformat_minor": 0,
  "metadata": {
    "colab": {
      "name": "1103-basic-python.ipynb",
      "provenance": [],
      "toc_visible": true,
      "authorship_tag": "ABX9TyOctzw55sHl36h6aBO/cuk6",
      "include_colab_link": true
    },
    "kernelspec": {
      "name": "python3",
      "display_name": "Python 3"
    },
    "language_info": {
      "name": "python"
    },
    "accelerator": "GPU"
  },
  "cells": [
    {
      "cell_type": "markdown",
      "metadata": {
        "id": "view-in-github",
        "colab_type": "text"
      },
      "source": [
        "<a href=\"https://colab.research.google.com/github/gabie0208/eee4178-deep-learning/blob/main/1103_basic_python.ipynb\" target=\"_parent\"><img src=\"https://colab.research.google.com/assets/colab-badge.svg\" alt=\"Open In Colab\"/></a>"
      ]
    },
    {
      "cell_type": "markdown",
      "metadata": {
        "id": "-d4lYi07FK8l"
      },
      "source": [
        "### 1.1 자료형과 연산\n",
        "\n",
        "\n",
        "숫자형"
      ]
    },
    {
      "cell_type": "code",
      "metadata": {
        "colab": {
          "base_uri": "https://localhost:8080/"
        },
        "id": "_YePGmRYEv4W",
        "outputId": "02f060d7-7fcc-4d49-a5a0-5e139b09f422"
      },
      "source": [
        "a = 10\n",
        "b = 1.2\n",
        "print(a, b)\n",
        "print(a+b, a-b, a*b, a/b)"
      ],
      "execution_count": 1,
      "outputs": [
        {
          "output_type": "stream",
          "name": "stdout",
          "text": [
            "10 1.2\n",
            "11.2 8.8 12.0 8.333333333333334\n"
          ]
        }
      ]
    },
    {
      "cell_type": "markdown",
      "metadata": {
        "id": "cKY6Qky5FQ1Y"
      },
      "source": [
        "\n",
        "문자형"
      ]
    },
    {
      "cell_type": "code",
      "metadata": {
        "colab": {
          "base_uri": "https://localhost:8080/"
        },
        "id": "uHDDlfUxE2jb",
        "outputId": "286ae042-966a-4dd2-d7f7-33fb82f70edb"
      },
      "source": [
        "quote = \"Life is too short,\"\n",
        "print(quote, \"You need Python\")"
      ],
      "execution_count": 2,
      "outputs": [
        {
          "output_type": "stream",
          "name": "stdout",
          "text": [
            "Life is too short, You need Python\n"
          ]
        }
      ]
    },
    {
      "cell_type": "code",
      "metadata": {
        "colab": {
          "base_uri": "https://localhost:8080/"
        },
        "id": "DB6Y6eHhFAJc",
        "outputId": "26892cf5-cb74-4f51-a832-aec26a81b2b1"
      },
      "source": [
        "odd = [1, 3, 5, 7, 9]\n",
        "alphabet = [\"abc\", \"def\", \"ghi\"]\n",
        "empty = []\n",
        "\n",
        "odd[1]"
      ],
      "execution_count": 4,
      "outputs": [
        {
          "output_type": "execute_result",
          "data": {
            "text/plain": [
              "3"
            ]
          },
          "metadata": {},
          "execution_count": 4
        }
      ]
    },
    {
      "cell_type": "markdown",
      "metadata": {
        "id": "jLZ4LJ1-FS8x"
      },
      "source": [
        "리스트"
      ]
    },
    {
      "cell_type": "code",
      "metadata": {
        "colab": {
          "base_uri": "https://localhost:8080/"
        },
        "id": "PGvaXIKJFBYM",
        "outputId": "aa73b18d-db5f-4438-c412-8eba1ee5302c"
      },
      "source": [
        "print(\"alphabet[0]: \", alphabet[0])\n",
        "print(\"odd[-1]: \", odd[-1])\n",
        "print(\"odd[0:2]: \", odd[0:2])"
      ],
      "execution_count": 5,
      "outputs": [
        {
          "output_type": "stream",
          "name": "stdout",
          "text": [
            "alphabet[0]:  abc\n",
            "odd[-1]:  9\n",
            "odd[0:2]:  [1, 3]\n"
          ]
        }
      ]
    },
    {
      "cell_type": "code",
      "metadata": {
        "colab": {
          "base_uri": "https://localhost:8080/"
        },
        "id": "H69mbs7uFE8y",
        "outputId": "dfa90869-8a6f-40d3-e580-d5e498c99be4"
      },
      "source": [
        "alphabet.append(\"A\")\n",
        "alphabet.append([\"B\", \"c\"])\n",
        "print(alphabet)"
      ],
      "execution_count": 6,
      "outputs": [
        {
          "output_type": "stream",
          "name": "stdout",
          "text": [
            "['abc', 'def', 'ghi', 'A', ['B', 'c']]\n"
          ]
        }
      ]
    },
    {
      "cell_type": "code",
      "metadata": {
        "colab": {
          "base_uri": "https://localhost:8080/"
        },
        "id": "4sR-kwCpFGMI",
        "outputId": "e490a261-2f8c-4100-8591-add356d20dfd"
      },
      "source": [
        "empty.append(1)\n",
        "empty.append(2)\n",
        "empty.append('3')\n",
        "empty"
      ],
      "execution_count": 7,
      "outputs": [
        {
          "output_type": "execute_result",
          "data": {
            "text/plain": [
              "[1, 2, '3']"
            ]
          },
          "metadata": {},
          "execution_count": 7
        }
      ]
    },
    {
      "cell_type": "code",
      "metadata": {
        "colab": {
          "base_uri": "https://localhost:8080/"
        },
        "id": "i_6e5FYsFH3S",
        "outputId": "d24678b3-18b6-4b90-bf26-645db85c2e1d"
      },
      "source": [
        "print(type(empty[0]))\n",
        "print(type(empty[-1]))"
      ],
      "execution_count": 8,
      "outputs": [
        {
          "output_type": "stream",
          "name": "stdout",
          "text": [
            "<class 'int'>\n",
            "<class 'str'>\n"
          ]
        }
      ]
    },
    {
      "cell_type": "markdown",
      "metadata": {
        "id": "d0FMMm6sFVx6"
      },
      "source": [
        "튜플\n",
        "\n",
        "\n",
        "list와 비슷하지만 요소값 생성, 삭제, 수정이 불가\n",
        "\n",
        "\n",
        "()로 묶여 있음 (list의 경우 [])"
      ]
    },
    {
      "cell_type": "code",
      "metadata": {
        "colab": {
          "base_uri": "https://localhost:8080/"
        },
        "id": "6H7k03VMFJFB",
        "outputId": "3a90e95b-6904-4308-a08a-5cb7863dc105"
      },
      "source": [
        "t = (1, \"sogang\", 2, 3.5)\n",
        "t"
      ],
      "execution_count": 9,
      "outputs": [
        {
          "output_type": "execute_result",
          "data": {
            "text/plain": [
              "(1, 'sogang', 2, 3.5)"
            ]
          },
          "metadata": {},
          "execution_count": 9
        }
      ]
    },
    {
      "cell_type": "code",
      "metadata": {
        "colab": {
          "base_uri": "https://localhost:8080/"
        },
        "id": "Wydl5ff4FZ0F",
        "outputId": "58df1a25-f694-4e5f-a8bf-244b6c1495ac"
      },
      "source": [
        "type(t)"
      ],
      "execution_count": 10,
      "outputs": [
        {
          "output_type": "execute_result",
          "data": {
            "text/plain": [
              "tuple"
            ]
          },
          "metadata": {},
          "execution_count": 10
        }
      ]
    },
    {
      "cell_type": "code",
      "metadata": {
        "colab": {
          "base_uri": "https://localhost:8080/"
        },
        "id": "onX8peKyFa-a",
        "outputId": "0ff9754a-72f2-4bb4-e746-22fc04a51b21"
      },
      "source": [
        "print(t[0])\n",
        "print(t[1])"
      ],
      "execution_count": 11,
      "outputs": [
        {
          "output_type": "stream",
          "name": "stdout",
          "text": [
            "1\n",
            "sogang\n"
          ]
        }
      ]
    },
    {
      "cell_type": "code",
      "metadata": {
        "colab": {
          "base_uri": "https://localhost:8080/"
        },
        "id": "tW2miSoGFcPz",
        "outputId": "53463a8e-90b5-4afd-a783-99c2357d1606"
      },
      "source": [
        "t = t + (4, \"university\")\n",
        "t"
      ],
      "execution_count": 13,
      "outputs": [
        {
          "output_type": "execute_result",
          "data": {
            "text/plain": [
              "(1, 'sogang', 2, 3.5, 4, 'university', 4, 'university')"
            ]
          },
          "metadata": {},
          "execution_count": 13
        }
      ]
    },
    {
      "cell_type": "code",
      "metadata": {
        "colab": {
          "base_uri": "https://localhost:8080/"
        },
        "id": "0--5pyn2Fdwk",
        "outputId": "cdc305b3-9af0-4863-ca81-da02964b15a9"
      },
      "source": [
        "t*2"
      ],
      "execution_count": 14,
      "outputs": [
        {
          "output_type": "execute_result",
          "data": {
            "text/plain": [
              "(1,\n",
              " 'sogang',\n",
              " 2,\n",
              " 3.5,\n",
              " 4,\n",
              " 'university',\n",
              " 4,\n",
              " 'university',\n",
              " 1,\n",
              " 'sogang',\n",
              " 2,\n",
              " 3.5,\n",
              " 4,\n",
              " 'university',\n",
              " 4,\n",
              " 'university')"
            ]
          },
          "metadata": {},
          "execution_count": 14
        }
      ]
    },
    {
      "cell_type": "code",
      "metadata": {
        "colab": {
          "base_uri": "https://localhost:8080/"
        },
        "id": "qV4jS7tFFfig",
        "outputId": "bf2d9f41-6314-4dd1-c123-c2af43a28533"
      },
      "source": [
        "t2 = ((1, 2), (\"sogang\", 3), (\"university, 4\"))\n",
        "print(t2[1])\n",
        "print(t2[1][1])"
      ],
      "execution_count": 16,
      "outputs": [
        {
          "output_type": "stream",
          "name": "stdout",
          "text": [
            "('sogang', 3)\n",
            "3\n"
          ]
        }
      ]
    },
    {
      "cell_type": "markdown",
      "metadata": {
        "id": "mJA7gGm7FjlF"
      },
      "source": [
        "딕셔너리\n",
        "\n",
        "\n",
        "Key와 Value를 한 쌍으로 갖는 자료형"
      ]
    },
    {
      "cell_type": "code",
      "metadata": {
        "colab": {
          "base_uri": "https://localhost:8080/"
        },
        "id": "YvNDVg26Fg5f",
        "outputId": "d27b638c-753b-4a21-9fb9-a11332b5b21d"
      },
      "source": [
        "# Dictionary: {Key1:Value1, Key2:Value2, Key3:Value3, ....}\n",
        "\n",
        "dic = {\"김철수\":80, \"이영희\":90, \"박아무개\":85}\n",
        "print(dic)\n",
        "print(dic[\"김철수\"])\n",
        "print(dic.keys())\n",
        "print(dic.values())"
      ],
      "execution_count": 17,
      "outputs": [
        {
          "output_type": "stream",
          "name": "stdout",
          "text": [
            "{'김철수': 80, '이영희': 90, '박아무개': 85}\n",
            "80\n",
            "dict_keys(['김철수', '이영희', '박아무개'])\n",
            "dict_values([80, 90, 85])\n"
          ]
        }
      ]
    },
    {
      "cell_type": "code",
      "metadata": {
        "colab": {
          "base_uri": "https://localhost:8080/"
        },
        "id": "bBvDHwKNFlXT",
        "outputId": "a82418d7-904b-486b-e825-9069f069f629"
      },
      "source": [
        "dic[\"이름\"]=100\n",
        "print(dic)"
      ],
      "execution_count": 18,
      "outputs": [
        {
          "output_type": "stream",
          "name": "stdout",
          "text": [
            "{'김철수': 80, '이영희': 90, '박아무개': 85, '이름': 100}\n"
          ]
        }
      ]
    },
    {
      "cell_type": "markdown",
      "metadata": {
        "id": "H5L4jTbsFpHe"
      },
      "source": [
        "### 1.2 제어문\n",
        "\n",
        "\n",
        "if문"
      ]
    },
    {
      "cell_type": "code",
      "metadata": {
        "colab": {
          "base_uri": "https://localhost:8080/"
        },
        "id": "VAb7TLg_FnIP",
        "outputId": "ec40dd3e-7c0c-450a-adb5-f489f75bbcee"
      },
      "source": [
        "print('emtpy:',empty)\n",
        "\n",
        "if empty[1]%2 == 0:\n",
        "  print(\"{} is an even number\".format(empty[1]))\n",
        "elif empty[1]%2 == 1:\n",
        "  print(\"{} is an odd number\".format(empty[1]))\n",
        "else:\n",
        "  print(\"Impossible\")"
      ],
      "execution_count": 19,
      "outputs": [
        {
          "output_type": "stream",
          "name": "stdout",
          "text": [
            "emtpy: [1, 2, '3']\n",
            "2 is an even number\n"
          ]
        }
      ]
    },
    {
      "cell_type": "markdown",
      "metadata": {
        "id": "Il4sjdrSFv2G"
      },
      "source": [
        "for문"
      ]
    },
    {
      "cell_type": "code",
      "metadata": {
        "colab": {
          "base_uri": "https://localhost:8080/"
        },
        "id": "936IU2f4Fuqr",
        "outputId": "bda317b9-8d0d-4dbe-d7a5-222bba534f68"
      },
      "source": [
        "for i in range(5):\n",
        "  print(i)"
      ],
      "execution_count": 20,
      "outputs": [
        {
          "output_type": "stream",
          "name": "stdout",
          "text": [
            "0\n",
            "1\n",
            "2\n",
            "3\n",
            "4\n"
          ]
        }
      ]
    },
    {
      "cell_type": "markdown",
      "metadata": {
        "id": "_vKabV6PFxcz"
      },
      "source": [
        "while문\n"
      ]
    },
    {
      "cell_type": "code",
      "metadata": {
        "colab": {
          "base_uri": "https://localhost:8080/"
        },
        "id": "qE5HeBnaFw6L",
        "outputId": "ee76c917-fb4c-42b0-fbe4-2ceced978b39"
      },
      "source": [
        "start = 0\n",
        "while start<5:\n",
        "  print(start)\n",
        "  start = start + 2\n",
        "\n",
        "print(\"final value: {}\".format(start))"
      ],
      "execution_count": 21,
      "outputs": [
        {
          "output_type": "stream",
          "name": "stdout",
          "text": [
            "0\n",
            "2\n",
            "4\n",
            "final value: 6\n"
          ]
        }
      ]
    },
    {
      "cell_type": "markdown",
      "metadata": {
        "id": "HVahJXz0F1e3"
      },
      "source": [
        "### 1.3 함수/클래스\n",
        "\n",
        "\n",
        "함수"
      ]
    },
    {
      "cell_type": "code",
      "metadata": {
        "colab": {
          "base_uri": "https://localhost:8080/"
        },
        "id": "m0aHJeHgFzrf",
        "outputId": "afca7aed-ec26-4409-eca3-2806f9203830"
      },
      "source": [
        "def square_sum(a,b):\n",
        "  squared_a = a**2\n",
        "  squared_b = b**2\n",
        "  \n",
        "  return squared_a + squared_b\n",
        "\n",
        "c = square_sum(3,4)\n",
        "print(\"squared sum of {} and {} : {}\".format(3, 4, c))"
      ],
      "execution_count": 22,
      "outputs": [
        {
          "output_type": "stream",
          "name": "stdout",
          "text": [
            "squared sum of 3 and 4 : 25\n"
          ]
        }
      ]
    },
    {
      "cell_type": "code",
      "metadata": {
        "colab": {
          "base_uri": "https://localhost:8080/"
        },
        "id": "iSQZqvnqF5eC",
        "outputId": "987dae56-2278-4d1f-e232-b74a32a7c28a"
      },
      "source": [
        "class Calculator():\n",
        "  def __init__(self):\n",
        "    self.description = \"Example for initalizing a Class\"\n",
        "    self.result = 0\n",
        "\n",
        "  def add(self, num1, num2):\n",
        "    if type(num1) == int and type(num2) == int :\n",
        "      result = num1 + num2\n",
        "      return result\n",
        "    else:\n",
        "      raise Exception\n",
        "\n",
        "  def mul(self, num1, num2):\n",
        "    if type(num1) == int and type(num2) == int :\n",
        "      result = num1 * num2\n",
        "      return result\n",
        "    else:\n",
        "      raise Exception\n",
        "\n",
        "cal = Calculator()\n",
        "print(cal.description)\n",
        "print(cal.add(3,4))\n",
        "print(cal.mul(3,4))"
      ],
      "execution_count": 23,
      "outputs": [
        {
          "output_type": "stream",
          "name": "stdout",
          "text": [
            "Example for initalizing a Class\n",
            "7\n",
            "12\n"
          ]
        }
      ]
    },
    {
      "cell_type": "markdown",
      "metadata": {
        "id": "w1NQOBgVF-r_"
      },
      "source": [
        "### 1.4 패키지\n",
        "\n",
        "\n",
        "import\n"
      ]
    },
    {
      "cell_type": "code",
      "metadata": {
        "colab": {
          "base_uri": "https://localhost:8080/"
        },
        "id": "R7bFT4qQF86D",
        "outputId": "cc867207-70dd-4b59-f8e4-52f6dc70f5e0"
      },
      "source": [
        "import numpy as np\n",
        "\n",
        "array = np.array([1,2,3])\n",
        "print(array, type (array))"
      ],
      "execution_count": 24,
      "outputs": [
        {
          "output_type": "stream",
          "name": "stdout",
          "text": [
            "[1 2 3] <class 'numpy.ndarray'>\n"
          ]
        }
      ]
    },
    {
      "cell_type": "markdown",
      "metadata": {
        "id": "xUEmO-7rGGLr"
      },
      "source": [
        "### 2.1 Tensors / Numpy"
      ]
    },
    {
      "cell_type": "code",
      "metadata": {
        "id": "vuY9gNt6GBNF"
      },
      "source": [
        "import torch\n",
        "import numpy as np\n",
        "\n",
        "## colab의 경우, 대부분의 package install 필요 없음 (바로 import 가능)\n",
        "## 패키지 설치가 필요할 경우: 'pip install package_name'"
      ],
      "execution_count": 25,
      "outputs": []
    },
    {
      "cell_type": "markdown",
      "metadata": {
        "id": "7BPfwS0EGK6I"
      },
      "source": [
        "Python List: 행렬 연산을 위해 for 문 사용\n",
        "\n",
        "\n",
        "Numpy : 차원이 다른 행렬 간에도 연산이 가능\n",
        "\n",
        "\n",
        "Tensor : GPU 상에서 연산이 가능하고 autograd(자동 미분)연산 기능이 있는 자료형"
      ]
    },
    {
      "cell_type": "markdown",
      "metadata": {
        "id": "gs28e0xtGN3p"
      },
      "source": [
        "Tensor 생성 및 초기화"
      ]
    },
    {
      "cell_type": "code",
      "metadata": {
        "colab": {
          "base_uri": "https://localhost:8080/"
        },
        "id": "ptp4jpgQGI3L",
        "outputId": "4373abc6-fb84-486c-da70-fd1b9e96a9ca"
      },
      "source": [
        "# 초기화되지 않은 행렬 생성\n",
        "x = torch.empty(5,3)\n",
        "print(x)"
      ],
      "execution_count": 26,
      "outputs": [
        {
          "output_type": "stream",
          "name": "stdout",
          "text": [
            "tensor([[-1.2115e+27,  3.0822e-41,  3.3631e-44],\n",
            "        [ 0.0000e+00,         nan,  3.0822e-41],\n",
            "        [ 1.1578e+27,  1.1362e+30,  7.1547e+22],\n",
            "        [ 4.5828e+30,  1.2121e+04,  7.1846e+22],\n",
            "        [ 9.2198e-39,  7.0374e+22, -2.8904e+26]])\n"
          ]
        }
      ]
    },
    {
      "cell_type": "code",
      "metadata": {
        "colab": {
          "base_uri": "https://localhost:8080/"
        },
        "id": "ErpZgH20GPek",
        "outputId": "95ffd89d-91a7-4297-92b4-99de01f3fca3"
      },
      "source": [
        "# 0 ~ 1 사이의 랜덤 초기화 행렬 생성\n",
        "x = torch.rand(5,3)\n",
        "print(x)"
      ],
      "execution_count": 27,
      "outputs": [
        {
          "output_type": "stream",
          "name": "stdout",
          "text": [
            "tensor([[0.9621, 0.9549, 0.3893],\n",
            "        [0.4465, 0.2410, 0.3692],\n",
            "        [0.9784, 0.5608, 0.7741],\n",
            "        [0.3612, 0.0879, 0.0427],\n",
            "        [0.4114, 0.5857, 0.3959]])\n"
          ]
        }
      ]
    },
    {
      "cell_type": "code",
      "metadata": {
        "colab": {
          "base_uri": "https://localhost:8080/"
        },
        "id": "Kh4GtW1wGQ25",
        "outputId": "46879f60-6f63-4fac-dde9-c4b1b16d5d25"
      },
      "source": [
        "x.mean()"
      ],
      "execution_count": 28,
      "outputs": [
        {
          "output_type": "execute_result",
          "data": {
            "text/plain": [
              "tensor(0.5041)"
            ]
          },
          "metadata": {},
          "execution_count": 28
        }
      ]
    },
    {
      "cell_type": "code",
      "metadata": {
        "colab": {
          "base_uri": "https://localhost:8080/"
        },
        "id": "1zld9LKaGSS-",
        "outputId": "9d3f35fa-8d2c-4178-a6a5-ecaed4751d56"
      },
      "source": [
        "x.std()"
      ],
      "execution_count": 29,
      "outputs": [
        {
          "output_type": "execute_result",
          "data": {
            "text/plain": [
              "tensor(0.2990)"
            ]
          },
          "metadata": {},
          "execution_count": 29
        }
      ]
    },
    {
      "cell_type": "code",
      "metadata": {
        "colab": {
          "base_uri": "https://localhost:8080/"
        },
        "id": "7JpbWIMdGTNC",
        "outputId": "22d6187f-f65f-4e32-983f-b10e91a79975"
      },
      "source": [
        "# Standard Normal Distribution에서 랜덤 초기화 행렬 생성\n",
        "x = torch.randn(5,3)\n",
        "print(x)"
      ],
      "execution_count": 30,
      "outputs": [
        {
          "output_type": "stream",
          "name": "stdout",
          "text": [
            "tensor([[ 1.2303, -0.1819, -1.7271],\n",
            "        [ 2.6370, -0.4519,  0.2558],\n",
            "        [-0.8972, -0.5797,  0.1359],\n",
            "        [ 1.0862, -1.4128, -0.1379],\n",
            "        [-0.5021, -0.4282, -1.4600]])\n"
          ]
        }
      ]
    },
    {
      "cell_type": "code",
      "metadata": {
        "colab": {
          "base_uri": "https://localhost:8080/"
        },
        "id": "aQojIwrZGUeC",
        "outputId": "4e6aae09-8a3e-4da2-d5a7-c1514baa3ed8"
      },
      "source": [
        "x.mean()"
      ],
      "execution_count": 31,
      "outputs": [
        {
          "output_type": "execute_result",
          "data": {
            "text/plain": [
              "tensor(-0.1622)"
            ]
          },
          "metadata": {},
          "execution_count": 31
        }
      ]
    },
    {
      "cell_type": "code",
      "metadata": {
        "colab": {
          "base_uri": "https://localhost:8080/"
        },
        "id": "RyaWfTo_GVe8",
        "outputId": "57cd3461-8703-46ac-a820-b702f97795eb"
      },
      "source": [
        "x.std()"
      ],
      "execution_count": 32,
      "outputs": [
        {
          "output_type": "execute_result",
          "data": {
            "text/plain": [
              "tensor(1.1427)"
            ]
          },
          "metadata": {},
          "execution_count": 32
        }
      ]
    },
    {
      "cell_type": "code",
      "metadata": {
        "colab": {
          "base_uri": "https://localhost:8080/"
        },
        "id": "g7L_saCdGWxx",
        "outputId": "b0b34928-1ebe-4dc8-e185-978c4dea5f2e"
      },
      "source": [
        "# 특정 값을 tensor로 만들기\n",
        "x = torch.tensor([[1.2, 4.5],[1, 2]])\n",
        "x"
      ],
      "execution_count": 33,
      "outputs": [
        {
          "output_type": "execute_result",
          "data": {
            "text/plain": [
              "tensor([[1.2000, 4.5000],\n",
              "        [1.0000, 2.0000]])"
            ]
          },
          "metadata": {},
          "execution_count": 33
        }
      ]
    },
    {
      "cell_type": "markdown",
      "metadata": {
        "id": "i5IcNjBOGZKw"
      },
      "source": [
        "Tensor size & Numpy 변환"
      ]
    },
    {
      "cell_type": "code",
      "metadata": {
        "colab": {
          "base_uri": "https://localhost:8080/"
        },
        "id": "Nae9E8lFGX1E",
        "outputId": "65bf1f54-3ac8-4eda-d5d1-a098c0441044"
      },
      "source": [
        "# Size 확인\n",
        "x = torch.randn(3,4)\n",
        "print(x)\n",
        "print(\"x size : \", x.size())"
      ],
      "execution_count": 34,
      "outputs": [
        {
          "output_type": "stream",
          "name": "stdout",
          "text": [
            "tensor([[ 0.5655, -0.2939, -1.3205,  0.2901],\n",
            "        [ 0.0637,  1.2894,  0.0183,  1.0282],\n",
            "        [ 1.6469,  0.2537,  1.1846,  0.8440]])\n",
            "x size :  torch.Size([3, 4])\n"
          ]
        }
      ]
    },
    {
      "cell_type": "code",
      "metadata": {
        "colab": {
          "base_uri": "https://localhost:8080/"
        },
        "id": "IzlJaSumGa1p",
        "outputId": "5f463638-c4ea-4b3d-8149-0153c413479d"
      },
      "source": [
        "# Resize - \"reshape\" : any tensor\n",
        "x = torch.rand(3,4)\n",
        "y = x.reshape(4,3)\n",
        "z = x.reshape(-1, 2)\n",
        "print(x, x.size(), \"\\n\", y, y.size(), \"\\n\", z, z.size())"
      ],
      "execution_count": 35,
      "outputs": [
        {
          "output_type": "stream",
          "name": "stdout",
          "text": [
            "tensor([[0.5065, 0.3122, 0.6880, 0.3119],\n",
            "        [0.5502, 0.5931, 0.1235, 0.4649],\n",
            "        [0.1532, 0.3244, 0.1812, 0.3019]]) torch.Size([3, 4]) \n",
            " tensor([[0.5065, 0.3122, 0.6880],\n",
            "        [0.3119, 0.5502, 0.5931],\n",
            "        [0.1235, 0.4649, 0.1532],\n",
            "        [0.3244, 0.1812, 0.3019]]) torch.Size([4, 3]) \n",
            " tensor([[0.5065, 0.3122],\n",
            "        [0.6880, 0.3119],\n",
            "        [0.5502, 0.5931],\n",
            "        [0.1235, 0.4649],\n",
            "        [0.1532, 0.3244],\n",
            "        [0.1812, 0.3019]]) torch.Size([6, 2])\n"
          ]
        }
      ]
    },
    {
      "cell_type": "code",
      "metadata": {
        "colab": {
          "base_uri": "https://localhost:8080/"
        },
        "id": "P-PYLhxWGcSZ",
        "outputId": "6f2d44a9-5254-4c61-b125-d940132c447d"
      },
      "source": [
        "# Resize - \"view\" : for contiguous tensors\n",
        "x = torch.randn(3,4)\n",
        "y = x.view(4,3)\n",
        "z = x.view(-1, 2)\n",
        "print(x, x.size(), \"\\n\", y, y.size(), \"\\n\", z, z.size())"
      ],
      "execution_count": 36,
      "outputs": [
        {
          "output_type": "stream",
          "name": "stdout",
          "text": [
            "tensor([[-0.8268,  0.2210,  1.0527,  0.8681],\n",
            "        [ 0.2998,  1.6552,  0.6452,  0.4080],\n",
            "        [-0.8007,  2.6310, -0.9569,  2.0408]]) torch.Size([3, 4]) \n",
            " tensor([[-0.8268,  0.2210,  1.0527],\n",
            "        [ 0.8681,  0.2998,  1.6552],\n",
            "        [ 0.6452,  0.4080, -0.8007],\n",
            "        [ 2.6310, -0.9569,  2.0408]]) torch.Size([4, 3]) \n",
            " tensor([[-0.8268,  0.2210],\n",
            "        [ 1.0527,  0.8681],\n",
            "        [ 0.2998,  1.6552],\n",
            "        [ 0.6452,  0.4080],\n",
            "        [-0.8007,  2.6310],\n",
            "        [-0.9569,  2.0408]]) torch.Size([6, 2])\n"
          ]
        }
      ]
    },
    {
      "cell_type": "code",
      "metadata": {
        "colab": {
          "base_uri": "https://localhost:8080/"
        },
        "id": "cXq0wfDcGeFL",
        "outputId": "96dc7797-c466-4554-ac29-ea27666299dc"
      },
      "source": [
        "# Tensor to numpy\n",
        "x = torch.ones(5)\n",
        "y = x.numpy()\n",
        "print(x, type(x))\n",
        "print(y, type(y))"
      ],
      "execution_count": 37,
      "outputs": [
        {
          "output_type": "stream",
          "name": "stdout",
          "text": [
            "tensor([1., 1., 1., 1., 1.]) <class 'torch.Tensor'>\n",
            "[1. 1. 1. 1. 1.] <class 'numpy.ndarray'>\n"
          ]
        }
      ]
    },
    {
      "cell_type": "code",
      "metadata": {
        "colab": {
          "base_uri": "https://localhost:8080/"
        },
        "id": "FwXjQXfyGfc0",
        "outputId": "be3cf2c7-58da-402e-c79b-40990c907bd3"
      },
      "source": [
        "# Numpy to tensor\n",
        "x = np.ones(5)\n",
        "y = torch.from_numpy(x)\n",
        "print(x, type(x))\n",
        "print(y, type(y))"
      ],
      "execution_count": 38,
      "outputs": [
        {
          "output_type": "stream",
          "name": "stdout",
          "text": [
            "[1. 1. 1. 1. 1.] <class 'numpy.ndarray'>\n",
            "tensor([1., 1., 1., 1., 1.], dtype=torch.float64) <class 'torch.Tensor'>\n"
          ]
        }
      ]
    },
    {
      "cell_type": "code",
      "metadata": {
        "colab": {
          "base_uri": "https://localhost:8080/"
        },
        "id": "JpM1wH_IGgpr",
        "outputId": "7be281cc-3d94-44ae-f852-53ecf52de1a6"
      },
      "source": [
        "# GPU 연산을 위한 CUDA tensor\n",
        "x = torch.ones(5)\n",
        "y = x.to(device=\"cuda:0\") #런타임 연결 gpu로 설정\n",
        "print(x)\n",
        "print(y)"
      ],
      "execution_count": 39,
      "outputs": [
        {
          "output_type": "stream",
          "name": "stdout",
          "text": [
            "tensor([1., 1., 1., 1., 1.])\n",
            "tensor([1., 1., 1., 1., 1.], device='cuda:0')\n"
          ]
        }
      ]
    },
    {
      "cell_type": "markdown",
      "metadata": {
        "id": "fG1eclnVGj1I"
      },
      "source": [
        "Tensor Autograd\n",
        "\n",
        "\n",
        "requires_grad를 true로 세팅하면 tensor에 대한 모든 연산 추적 가능\n",
        "\n",
        "\n",
        "이를 통해 forward propagation 후, .backward() 호출 시 모든 gradient 자동으로 계산"
      ]
    },
    {
      "cell_type": "code",
      "metadata": {
        "colab": {
          "base_uri": "https://localhost:8080/"
        },
        "id": "9b5dop9wGh60",
        "outputId": "7c94ac14-d905-4a65-8c98-4f2d2931f6ef"
      },
      "source": [
        "x = torch.tensor(([1., 2.], [3., 4.]), requires_grad=True)\n",
        "print(x)\n",
        "y = (x+2) **2 *3\n",
        "print(y)\n",
        "\n",
        "out = y.mean()\n",
        "print(out)\n",
        "\n",
        "out.backward()\n",
        "print(x.grad)"
      ],
      "execution_count": 40,
      "outputs": [
        {
          "output_type": "stream",
          "name": "stdout",
          "text": [
            "tensor([[1., 2.],\n",
            "        [3., 4.]], requires_grad=True)\n",
            "tensor([[ 27.,  48.],\n",
            "        [ 75., 108.]], grad_fn=<MulBackward0>)\n",
            "tensor(64.5000, grad_fn=<MeanBackward0>)\n",
            "tensor([[4.5000, 6.0000],\n",
            "        [7.5000, 9.0000]])\n"
          ]
        }
      ]
    },
    {
      "cell_type": "code",
      "metadata": {
        "id": "iRPNUYWXGn3d"
      },
      "source": [
        ""
      ],
      "execution_count": null,
      "outputs": []
    }
  ]
}